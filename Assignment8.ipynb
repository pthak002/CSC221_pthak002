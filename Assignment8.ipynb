{
  "nbformat": 4,
  "nbformat_minor": 0,
  "metadata": {
    "colab": {
      "provenance": [],
      "authorship_tag": "ABX9TyOqEgXlL3THCFVsS/Q0WLUE",
      "include_colab_link": true
    },
    "kernelspec": {
      "name": "python3",
      "display_name": "Python 3"
    },
    "language_info": {
      "name": "python"
    }
  },
  "cells": [
    {
      "cell_type": "markdown",
      "metadata": {
        "id": "view-in-github",
        "colab_type": "text"
      },
      "source": [
        "<a href=\"https://colab.research.google.com/github/pthak002/CSC221_pthak002/blob/main/Assignment8.ipynb\" target=\"_parent\"><img src=\"https://colab.research.google.com/assets/colab-badge.svg\" alt=\"Open In Colab\"/></a>"
      ]
    },
    {
      "cell_type": "code",
      "execution_count": 5,
      "metadata": {
        "colab": {
          "base_uri": "https://localhost:8080/"
        },
        "id": "QMiJqkGlPdrs",
        "outputId": "068f7106-37f1-4c6c-a55f-dd651de16029"
      },
      "outputs": [
        {
          "output_type": "stream",
          "name": "stdout",
          "text": [
            "One of my favorite book is 'Rich dad poor dad'\n"
          ]
        }
      ],
      "source": [
        "#TIY 8-2\n",
        "def favorite_book(title):\n",
        "  print(f\"One of my favorite book is {title}\")\n",
        "\n",
        "favorite_book(\"'Rich dad poor dad'\")"
      ]
    },
    {
      "cell_type": "code",
      "source": [
        "#TIY 8-3\n",
        "def make_shirt(size, text):\n",
        "  print(f\"\\nThe size of the shirt is {size} and it says '{text}'.\")\n",
        "\n",
        "#calling the function using positional arguments\n",
        "make_shirt(\"L\", \"You are beautiful\")\n",
        "\n",
        "#calling the function using keyword arguments\n",
        "make_shirt(size = \"M\", text = \"Have a good day\")"
      ],
      "metadata": {
        "colab": {
          "base_uri": "https://localhost:8080/"
        },
        "id": "hr-vtaZSjKpE",
        "outputId": "7ac6b877-fb0a-4660-bf0d-bfc428ee7aee"
      },
      "execution_count": 6,
      "outputs": [
        {
          "output_type": "stream",
          "name": "stdout",
          "text": [
            "\n",
            "The size of the shirt is L and it says 'You are beautiful'.\n",
            "\n",
            "The size of the shirt is M and it says 'Have a good day'.\n"
          ]
        }
      ]
    },
    {
      "cell_type": "code",
      "source": [
        "#TIY 8-4\n",
        "def make_shirt(size = \"L\",text = \"I love python\"):\n",
        "  print(f\"\\nThe size of the shirt is {size} and it says '{text}'.\")\n",
        "\n",
        "make_shirt()\n",
        "make_shirt(size =\"M\")\n",
        "make_shirt(size = \"S\", text = \"You are beautiful\")"
      ],
      "metadata": {
        "id": "j90npV_5ldyS",
        "colab": {
          "base_uri": "https://localhost:8080/"
        },
        "outputId": "c6508b9c-9715-4366-83c3-e05f66c37698"
      },
      "execution_count": 7,
      "outputs": [
        {
          "output_type": "stream",
          "name": "stdout",
          "text": [
            "\n",
            "The size of the shirt is L and it says 'I love python'.\n",
            "\n",
            "The size of the shirt is M and it says 'I love python'.\n",
            "\n",
            "The size of the shirt is S and it says 'You are beautiful'.\n"
          ]
        }
      ]
    },
    {
      "cell_type": "code",
      "source": [
        "#2\n",
        "#pseudocode\n",
        "\n",
        "# Defining a function called func8 that takes two or three numbers as arguments\n",
        "# The third number has a default value of 42 if it is not provided\n",
        "#creating a list to take all these values\n",
        "#sorting them out\n",
        "# should return sum, product and should be in a sorted way\n",
        "\n",
        "\n",
        "def func8(a,b,c = 42):\n",
        "  numbers = [a, b,c]\n",
        "  numbers.sort()\n",
        "  return sum(numbers), a * b * c, numbers\n",
        "\n",
        "# Test cases for func8\n",
        "print(func8(1, 2))\n",
        "print(func8(1, 2, 3))\n",
        "print(func8(5, 5, 5))\n",
        "print(func8(7, 4, 30))\n",
        "print(func8(100, b =500, c=300))\n"
      ],
      "metadata": {
        "colab": {
          "base_uri": "https://localhost:8080/"
        },
        "id": "B9WGchpm3xWU",
        "outputId": "b75a642b-2caa-43f0-c483-e26a59be48be"
      },
      "execution_count": 8,
      "outputs": [
        {
          "output_type": "stream",
          "name": "stdout",
          "text": [
            "(45, 84, [1, 2, 42])\n",
            "(6, 6, [1, 2, 3])\n",
            "(15, 125, [5, 5, 5])\n",
            "(41, 840, [4, 7, 30])\n",
            "(900, 15000000, [100, 300, 500])\n"
          ]
        }
      ]
    },
    {
      "cell_type": "code",
      "source": [],
      "metadata": {
        "id": "vHn4lnXZLjBY"
      },
      "execution_count": 8,
      "outputs": []
    }
  ]
}