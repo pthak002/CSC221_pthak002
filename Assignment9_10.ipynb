{
  "nbformat": 4,
  "nbformat_minor": 0,
  "metadata": {
    "colab": {
      "provenance": [],
      "authorship_tag": "ABX9TyNFkAXmL3/E2OObJG9q9XzP",
      "include_colab_link": true
    },
    "kernelspec": {
      "name": "python3",
      "display_name": "Python 3"
    },
    "language_info": {
      "name": "python"
    }
  },
  "cells": [
    {
      "cell_type": "markdown",
      "metadata": {
        "id": "view-in-github",
        "colab_type": "text"
      },
      "source": [
        "<a href=\"https://colab.research.google.com/github/pthak002/CSC221_pthak002/blob/main/Assignment9_10.ipynb\" target=\"_parent\"><img src=\"https://colab.research.google.com/assets/colab-badge.svg\" alt=\"Open In Colab\"/></a>"
      ]
    },
    {
      "cell_type": "markdown",
      "source": [
        "1. Creating a fucntion that takes a text as an input."
      ],
      "metadata": {
        "id": "8jB4uuqEYGz6"
      }
    },
    {
      "cell_type": "code",
      "source": [
        "def count_words(text):\n",
        "    \"\"\"\n",
        "    Counts the number of words in a text.\n",
        "\n",
        "    Args = text (str), Input text.\n",
        "\n",
        "    Returns as int, Number of words in the text.\n",
        "    \"\"\"\n",
        "    splitted = text.split()\n",
        "    return len(splitted)\n",
        ""
      ],
      "metadata": {
        "id": "cW3aYfa5YA1L"
      },
      "execution_count": 35,
      "outputs": []
    },
    {
      "cell_type": "code",
      "source": [
        "#testing\n",
        "assert count_words(\"jdn jdfn jken\") == 3\n",
        "assert count_words(\"Hi ! my name is praa\") == 6\n",
        "assert count_words(\"I love python and it is awesome!\") == 7"
      ],
      "metadata": {
        "id": "wsxsa8aqZJzh"
      },
      "execution_count": 41,
      "outputs": []
    },
    {
      "cell_type": "markdown",
      "source": [
        "2. Creating a fucntion that takes a variable number of arguments as an input"
      ],
      "metadata": {
        "id": "R_OoJbN3Z0jS"
      }
    },
    {
      "cell_type": "code",
      "source": [
        "def sum_of_squares(*args):\n",
        "    \"\"\"\n",
        "    Calculating the sum of squares of a variable number of arguments.\n",
        "\n",
        "    Args = variable number of arguments (numbers).\n",
        "\n",
        "    Returns integer = The sum of squares of the input numbers.\n",
        "    \"\"\"\n",
        "    return sum(x**2 for x in args)\n",
        "\n"
      ],
      "metadata": {
        "id": "e5X0d6xcZ3rQ"
      },
      "execution_count": 42,
      "outputs": []
    },
    {
      "cell_type": "code",
      "source": [
        "#testing\n",
        "assert sum_of_squares(1,2,3,4,5) == 55\n",
        "assert sum_of_squares() == 0\n",
        "assert sum_of_squares(1, 22) == 485"
      ],
      "metadata": {
        "id": "0BpT0QjeaV0k"
      },
      "execution_count": 48,
      "outputs": []
    },
    {
      "cell_type": "markdown",
      "source": [
        "3. Creating a function that return multiple items.\n"
      ],
      "metadata": {
        "id": "P1Qgj93Qa99g"
      }
    },
    {
      "cell_type": "code",
      "source": [
        "def max_and_min(numbers):\n",
        "    \"\"\"\n",
        "    Returns the maximum and minimum numbers from a list.\n",
        "\n",
        "    Args = numbers (list): A list of numbers.\n",
        "\n",
        "    Returns:\n",
        "    tuple: A tuple containing the maximum and minimum numbers.\n",
        "    \"\"\"\n",
        "    max_num = max(numbers)\n",
        "    min_num = min(numbers)\n",
        "    return max_num, min_num\n"
      ],
      "metadata": {
        "id": "yu4iQdrFagdp"
      },
      "execution_count": 54,
      "outputs": []
    },
    {
      "cell_type": "code",
      "source": [
        "#testing\n",
        "assert max_and_min([1, 2, 3, 55, 4, 5, 7, 8]) == (55, 1) #the first number is the max\n",
        "assert max_and_min([233, 22, 387]) == (387, 22)"
      ],
      "metadata": {
        "id": "gOJe3O8ibhYi"
      },
      "execution_count": 58,
      "outputs": []
    },
    {
      "cell_type": "markdown",
      "source": [
        "4.  Creating a function using sorting."
      ],
      "metadata": {
        "id": "JMz4g0vccbMe"
      }
    },
    {
      "cell_type": "code",
      "source": [
        "def find_midrange(numbers):\n",
        "    \"\"\"\n",
        "    Finding the midrange (average of the maximum and minimum) in a list of numbers using sorting.\n",
        "\n",
        "    Args = numbers (list): A list of numbers.\n",
        "\n",
        "    Returns = float: The midrange value.\n",
        "    \"\"\"\n",
        "    # Sorting the list of numbers\n",
        "    sorted_numbers = sorted(numbers)\n",
        "\n",
        "    # Calculating the midrange\n",
        "    max_num = sorted_numbers[-1]\n",
        "    min_num = sorted_numbers[0]\n",
        "    midrange = (max_num + min_num) / 2\n",
        "\n",
        "    return midrange\n",
        "\n",
        "\n"
      ],
      "metadata": {
        "id": "DQHQa4B2cjeB"
      },
      "execution_count": 59,
      "outputs": []
    },
    {
      "cell_type": "code",
      "source": [
        "#testing\n",
        "assert find_midrange([5, 2, 3, 4, 1]) == 3.0  # Midrange of 1 and 5 is 3\n",
        "assert find_midrange([9,2,7,5,6,1.2]) == 5.1"
      ],
      "metadata": {
        "id": "JRxb4fladbms"
      },
      "execution_count": 64,
      "outputs": []
    },
    {
      "cell_type": "markdown",
      "source": [
        "5. Creating a function using dictionary."
      ],
      "metadata": {
        "id": "Pfd4WPV6d4hw"
      }
    },
    {
      "cell_type": "code",
      "source": [
        "def search_book(library, title):\n",
        "    \"\"\"\n",
        "    Searching for a book by its title in a library.\n",
        "\n",
        "    Args:\n",
        "    library (dict): A dictionary where keys are book titles and values are author names.\n",
        "    title (str): The title of the book to search for.\n",
        "\n",
        "    Returns:\n",
        "    str: The author of the book if found, or a message indicating the book was not found.\n",
        "    \"\"\"\n",
        "    if title in library:\n",
        "        return library[title]\n",
        "    else:\n",
        "        return \"Book not found in the library.\"\n",
        "\n",
        "\n",
        "    library = {\n",
        "    'Python Crash Course': 'Eric Matthes',\n",
        "    'Deep Learning': 'Ian Goodfellow',\n",
        "    'Clean Code': 'Robert C. Martin'\n",
        "    }"
      ],
      "metadata": {
        "id": "fwMrt0jTvHYB"
      },
      "execution_count": 6,
      "outputs": []
    },
    {
      "cell_type": "code",
      "source": [
        "\n",
        "assert search_book(library, 'Deep Learning') == 'Ian Goodfellow'\n",
        "assert search_book(library, 'Machine Learning') == 'Book not found in the library.'\n"
      ],
      "metadata": {
        "id": "zBNaryJOvNbZ"
      },
      "execution_count": 12,
      "outputs": []
    },
    {
      "cell_type": "markdown",
      "source": [
        "6. Creating a function that solves a puzzle by guessing and checking."
      ],
      "metadata": {
        "id": "dJWTBo_KJKwD"
      }
    },
    {
      "cell_type": "code",
      "source": [
        "#The function guess_number takes an integer target as input and iterates through numbers starting from 1 until it finds the target number.\n",
        "# It uses a while loop for guessing and checking.\n",
        "def guess_number(target):\n",
        "    \"\"\"\n",
        "    Guesses the target number by iterating through numbers starting from 1.\n",
        "\n",
        "    Args:\n",
        "    - target (int): The number to be guessed.\n",
        "\n",
        "    Returns:\n",
        "    - int: The guessed number.\n",
        "    \"\"\"\n",
        "    guess = 1\n",
        "    while True:\n",
        "        if guess == target:\n",
        "            return guess\n",
        "        guess += 1\n",
        "\n"
      ],
      "metadata": {
        "colab": {
          "base_uri": "https://localhost:8080/"
        },
        "id": "SWlstw9iJEbg",
        "outputId": "b9afff32-5021-4b50-ed84-6a9aa4117f70"
      },
      "execution_count": 22,
      "outputs": [
        {
          "output_type": "execute_result",
          "data": {
            "text/plain": [
              "True"
            ]
          },
          "metadata": {},
          "execution_count": 22
        }
      ]
    },
    {
      "cell_type": "code",
      "source": [
        "# Test case 1\n",
        "target_number_1 = 7\n",
        "assert guess_number(target_number_1) == target_number_1\n",
        "\n",
        "# Test case 2\n",
        "target_number_2 = 20\n",
        "assert guess_number(target_number_2) == target_number_2\n",
        "\n",
        "# Test case 3\n",
        "target_number_3 = 100\n",
        "assert guess_number(target_number_3) == target_number_3\n"
      ],
      "metadata": {
        "id": "MzJVH-x3VAF1"
      },
      "execution_count": 24,
      "outputs": []
    },
    {
      "cell_type": "markdown",
      "source": [
        "7. This function factorial calculates the factorial of a non-negative integer using recursion. The factorial of a number is the product of all positive integers up to that number.\n",
        "\n"
      ],
      "metadata": {
        "id": "lq5XfrYPXF9I"
      }
    },
    {
      "cell_type": "code",
      "source": [
        "def factorial(n):\n",
        "    \"\"\"\n",
        "    Calculates the factorial of a non-negative integer using recursion.\n",
        "\n",
        "    Args:\n",
        "    - n (int): The number whose factorial is to be calculated.\n",
        "\n",
        "    Returns:\n",
        "    - int: The factorial of the input number.\n",
        "    \"\"\"\n",
        "\n",
        "    if n == 0:\n",
        "        return 1\n",
        "    else:\n",
        "        return n * factorial(n - 1)\n",
        "\n"
      ],
      "metadata": {
        "id": "UlnXx654WlAM"
      },
      "execution_count": 29,
      "outputs": []
    },
    {
      "cell_type": "code",
      "source": [
        "assert factorial(5) == 120,  \"Factorial of 5 should be 120\"\n",
        "assert factorial(0) == 1 ,\"Factorial of 0 should be 1\"\n"
      ],
      "metadata": {
        "id": "9OYiPj6_XmT-"
      },
      "execution_count": 31,
      "outputs": []
    },
    {
      "cell_type": "markdown",
      "source": [
        "8. This function will help to calculate the total calories burned during a gym session based on duration and intensity of various exercises. It will take inputs such as the type of exercise, duration in minutes, and the user's weight to estimate the calories burned."
      ],
      "metadata": {
        "id": "CrRSJtnSYA-h"
      }
    },
    {
      "cell_type": "code",
      "source": [
        "def calculate_calories_burned(exercise_type, duration_minutes, weight_kg):\n",
        "    \"\"\"\n",
        "    Calculating the calories burned during a gym session.\n",
        "\n",
        "    Args:\n",
        "    exercise_type (str): Type of exercise (running, weightlifting, cycling).\n",
        "    duration_minutes (int): Duration of exercise in minutes.\n",
        "    weight_kg (float): Weight of the person in kilograms.\n",
        "\n",
        "    Returns:\n",
        "    Estimated calories burned during the exercise session.\n",
        "    \"\"\"\n",
        "    intensity_factors = {\n",
        "        'running': 11.0,\n",
        "        'weightlifting': 3.0,\n",
        "        'cycling': 8.0,\n",
        "\n",
        "    }\n",
        "\n",
        "    if exercise_type not in intensity_factors:\n",
        "        raise ValueError(f\"Unknown exercise type: {exercise_type}\")\n",
        "\n",
        "    intensity_factor = intensity_factors[exercise_type]\n",
        "    calories_burned_per_minute = intensity_factor * 3.5 * weight_kg / 200\n",
        "    total_calories_burned = calories_burned_per_minute * duration_minutes\n",
        "\n",
        "    return total_calories_burned"
      ],
      "metadata": {
        "id": "FBWS_4cdXu0t"
      },
      "execution_count": 32,
      "outputs": []
    },
    {
      "cell_type": "code",
      "source": [
        "# Testing case for running for 30 minutes\n",
        "assert calculate_calories_burned('running', 30, 70) == 404.25\n",
        "\n",
        "# Testing case for weightlifting for 45 minutes\n",
        "assert calculate_calories_burned('weightlifting', 45, 60) == 141.75\n",
        "\n",
        "# Testing case for cycling for 60 minutes\n",
        "assert calculate_calories_burned('cycling', 60, 70) == 588.0\n"
      ],
      "metadata": {
        "id": "85NY1WYCYFyo"
      },
      "execution_count": 33,
      "outputs": []
    },
    {
      "cell_type": "markdown",
      "source": [
        "9.  Creating a function that recommends music based on your listening history or mood."
      ],
      "metadata": {
        "id": "KA48aSEtYPXp"
      }
    },
    {
      "cell_type": "code",
      "source": [
        "def music_recommendation(mood):\n",
        "    \"\"\"\n",
        "    Recommends music based on the specified mood.\n",
        "\n",
        "    Args: mood (str): The mood for which music should be recommended.\n",
        "\n",
        "    Returns: str: A recommended song or playlist based on the specified mood.\n",
        "    \"\"\"\n",
        "    # Dictionary mapping moods to recommended songs or playlists\n",
        "    recommendations = {\n",
        "        \"happy\": \"Happy - Pharrell Williams\",\n",
        "        \"relaxed\": \"Relaxing Jazz Music - Various Artists\",\n",
        "        \"energetic\": \"Eye of the Tiger - Survivor\",\n",
        "        \"sad\": \"Someone Like You - Adele\",\n",
        "        \"motivated\": \"Stronger - Kanye West\",\n",
        "    }\n",
        "\n",
        "    # Return the recommended music for the specified mood\n",
        "    return recommendations.get(mood.lower(), \"No recommendations available for this mood.\")\n"
      ],
      "metadata": {
        "id": "6w09VnkqZcoB"
      },
      "execution_count": 38,
      "outputs": []
    },
    {
      "cell_type": "code",
      "source": [
        "# Test case 1\n",
        "assert music_recommendation(\"happy\") == \"Happy - Pharrell Williams\", \"Incorrect recommendation for 'happy' mood\"\n",
        "\n",
        "# Test case 2\n",
        "assert music_recommendation(\"relaxed\") == \"Relaxing Jazz Music - Various Artists\", \"Incorrect recommendation for 'relaxed' mood\"\n",
        "\n",
        "# Test case 3\n",
        "assert music_recommendation(\"angry\") == \"No recommendations available for this mood.\", \"Incorrect recommendation for 'angry' mood\"\n"
      ],
      "metadata": {
        "id": "GjOWYjH1asty"
      },
      "execution_count": 39,
      "outputs": []
    },
    {
      "cell_type": "markdown",
      "source": [
        "10. The function kinetic_energy calculates the kinetic energy of an object based on its mass and velocity."
      ],
      "metadata": {
        "id": "foEQEx-NcheG"
      }
    },
    {
      "cell_type": "code",
      "source": [
        "def kinetic_energy(mass, velocity):\n",
        "    \"\"\"\n",
        "    Calculate the kinetic energy of an object.\n",
        "\n",
        "    Args:\n",
        "    - mass (float): The mass of the object in kilograms.\n",
        "    - velocity (float): The velocity of the object in meters per second.\n",
        "\n",
        "    Returns:\n",
        "    - float: The kinetic energy of the object in joules.\n",
        "    \"\"\"\n",
        "    return 0.5 * mass * velocity ** 2\n",
        ""
      ],
      "metadata": {
        "id": "p392ATcXeFDj"
      },
      "execution_count": 40,
      "outputs": []
    },
    {
      "cell_type": "code",
      "source": [
        "# Test case 1\n",
        "assert kinetic_energy(10, 5) == 125, \"Incorrect kinetic energy calculation for mass=10, velocity=5\"\n",
        "\n",
        "# Test case 2\n",
        "assert kinetic_energy(0, 5) == 0, \"Incorrect kinetic energy calculation for mass=0, velocity=5\"\n",
        "\n",
        "# Test case 3\n",
        "assert kinetic_energy(10, 0) == 0, \"Incorrect kinetic energy calculation for mass=10, velocity=0\"\n"
      ],
      "metadata": {
        "id": "AMdBO1OMePjY"
      },
      "execution_count": 41,
      "outputs": []
    }
  ]
}