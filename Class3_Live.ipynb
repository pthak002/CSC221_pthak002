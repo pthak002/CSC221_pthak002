{
  "nbformat": 4,
  "nbformat_minor": 0,
  "metadata": {
    "colab": {
      "provenance": [],
      "authorship_tag": "ABX9TyPG09LfiEG/hS/8JLMGFZ4b",
      "include_colab_link": true
    },
    "kernelspec": {
      "name": "python3",
      "display_name": "Python 3"
    },
    "language_info": {
      "name": "python"
    }
  },
  "cells": [
    {
      "cell_type": "markdown",
      "metadata": {
        "id": "view-in-github",
        "colab_type": "text"
      },
      "source": [
        "<a href=\"https://colab.research.google.com/github/pthak002/CSC221_pthak002/blob/main/Class3_Live.ipynb\" target=\"_parent\"><img src=\"https://colab.research.google.com/assets/colab-badge.svg\" alt=\"Open In Colab\"/></a>"
      ]
    },
    {
      "cell_type": "markdown",
      "source": [
        "#CSC 221 Spring 2024\n",
        "- Ned Lecky Class 3\n",
        "- Class 3 live\n",
        "-2/5/2024\n",
        "#here is what we did.."
      ],
      "metadata": {
        "id": "GhGVJ-Gj6HFQ"
      }
    },
    {
      "cell_type": "code",
      "execution_count": null,
      "metadata": {
        "id": "e96RVn4Z55LP"
      },
      "outputs": [],
      "source": [
        "[]"
      ]
    },
    {
      "cell_type": "code",
      "source": [
        "a = 13\n",
        "b = 12.5\n",
        "c = \"fred\"\n",
        "\n",
        "print(a,b,c)\n",
        "\n",
        "print(type(a))\n",
        "print(type(b))\n",
        "print(type(c))"
      ],
      "metadata": {
        "colab": {
          "base_uri": "https://localhost:8080/"
        },
        "id": "bJ_Qnfuc7HKq",
        "outputId": "d52bd57d-45d7-4a6e-e6f4-312aaab91ec6"
      },
      "execution_count": 2,
      "outputs": [
        {
          "output_type": "stream",
          "name": "stdout",
          "text": [
            "13 12.5 fred\n",
            "<class 'int'>\n",
            "<class 'float'>\n",
            "<class 'str'>\n"
          ]
        }
      ]
    },
    {
      "cell_type": "code",
      "source": [
        "b = a**123\n",
        "print(type(b), b)"
      ],
      "metadata": {
        "colab": {
          "base_uri": "https://localhost:8080/"
        },
        "id": "u7lIoKAZ7PdF",
        "outputId": "4de436ce-9aa0-43be-f900-9471103a5707"
      },
      "execution_count": 4,
      "outputs": [
        {
          "output_type": "stream",
          "name": "stdout",
          "text": [
            "<class 'int'> 103521923711427330139508660561111399310356231562909825053544787423528887795603512927942762680653876132399975884814583882073552996857463797\n"
          ]
        }
      ]
    },
    {
      "cell_type": "code",
      "source": [
        "f2 =1/3\n",
        "print(f2)"
      ],
      "metadata": {
        "colab": {
          "base_uri": "https://localhost:8080/"
        },
        "id": "JtwXUAHp7jXW",
        "outputId": "95f10105-07c0-467a-ae3a-53e644727597"
      },
      "execution_count": 5,
      "outputs": [
        {
          "output_type": "stream",
          "name": "stdout",
          "text": [
            "0.3333333333333333\n"
          ]
        }
      ]
    },
    {
      "cell_type": "code",
      "source": [
        "#variable names\n",
        "# A-Za-z_ followed by 0-9A-Za-z_\n",
        "_3abc = 12 #it works\n"
      ],
      "metadata": {
        "id": "z2_9GMqC7zyK"
      },
      "execution_count": null,
      "outputs": []
    },
    {
      "cell_type": "code",
      "source": [
        "#good andd bad variable names\n",
        "age_in_years = 61\n",
        "last_name = \"lecky\"\n",
        "first_name = \"Ned\"\n",
        "\n",
        "AgeInYears = 61 #camel\n",
        "\n",
        "print(f\"age_in_years = {age_in_years} and 4 squared is {4**2}\")\n"
      ],
      "metadata": {
        "colab": {
          "base_uri": "https://localhost:8080/"
        },
        "id": "FsKLC2aZ8nNx",
        "outputId": "1d958c65-4a98-49e7-a181-2b330b086eb2"
      },
      "execution_count": 7,
      "outputs": [
        {
          "output_type": "stream",
          "name": "stdout",
          "text": [
            "age_in_years = 61 and 4 squared is 16\n"
          ]
        }
      ]
    },
    {
      "cell_type": "code",
      "source": [],
      "metadata": {
        "id": "Sv0wlj1v-Q-6"
      },
      "execution_count": null,
      "outputs": []
    },
    {
      "cell_type": "code",
      "source": [
        "# Intro to functions and objects\n",
        "\n",
        "def f1(x):  #def means defining a function or creating a function. #f1 is name and x is the input\n",
        "  y = 3 * x + 2 #after colon indentend and there is name = number and y is the variable and\n",
        "  return y # return is\n",
        "\n",
        "\n",
        "def f2(x):\n",
        "  print(f'Hi I\\'m f2 and I got {x}')\n",
        "\n",
        "def f3(x):\n",
        "  print(f\"Hi I'm f3 and I got {x}\")\n",
        "\n",
        "\n",
        "y = f1(12) # 12 becomes x in the function\n",
        "print(y)\n",
        "\n",
        "f2(12)\n",
        "f3(21)"
      ],
      "metadata": {
        "colab": {
          "base_uri": "https://localhost:8080/"
        },
        "id": "w0q646-7_GHB",
        "outputId": "ac4cc62d-e990-43d3-f67c-9ce2badd7d85"
      },
      "execution_count": 14,
      "outputs": [
        {
          "output_type": "stream",
          "name": "stdout",
          "text": [
            "38\n",
            "Hi I'm f2 and I got 12\n",
            "Hi I'm f3 and I got 21\n"
          ]
        }
      ]
    },
    {
      "cell_type": "code",
      "source": [
        "\n",
        "name = \"ned lecky\"\n",
        "print(name.title())"
      ],
      "metadata": {
        "colab": {
          "base_uri": "https://localhost:8080/"
        },
        "id": "ThzZ5mGoBu3C",
        "outputId": "849be943-c706-4877-b255-bca6a64bbcf2"
      },
      "execution_count": 19,
      "outputs": [
        {
          "output_type": "stream",
          "name": "stdout",
          "text": [
            "Ned Lecky\n"
          ]
        }
      ]
    },
    {
      "cell_type": "code",
      "source": [
        "#roll 1 die 200 times.... what sum do you get?\n",
        "\n",
        "import random\n",
        "\n",
        "def roll():\n",
        "  r = random.randint(1,6)\n",
        "  return r\n",
        "\n",
        "for i in range(20):\n",
        "  print(i, roll())\n",
        "\n",
        "\n"
      ],
      "metadata": {
        "colab": {
          "base_uri": "https://localhost:8080/"
        },
        "id": "UWHStI0rC-Aq",
        "outputId": "56d0d39d-8d5a-4d8c-9398-58d9520c1dfa"
      },
      "execution_count": 21,
      "outputs": [
        {
          "output_type": "stream",
          "name": "stdout",
          "text": [
            "0 5\n",
            "1 1\n",
            "2 1\n",
            "3 1\n",
            "4 2\n",
            "5 5\n",
            "6 1\n",
            "7 5\n",
            "8 3\n",
            "9 6\n",
            "10 3\n",
            "11 5\n",
            "12 2\n",
            "13 3\n",
            "14 4\n",
            "15 3\n",
            "16 5\n",
            "17 5\n",
            "18 2\n",
            "19 4\n"
          ]
        }
      ]
    },
    {
      "cell_type": "code",
      "source": [],
      "metadata": {
        "id": "noYzYjNqEUP-"
      },
      "execution_count": null,
      "outputs": []
    },
    {
      "cell_type": "code",
      "source": [
        "#roll 1 die 200 times.... what sum do you get?\n",
        "\n",
        "import random\n",
        "\n",
        "def roll():\n",
        "  r = random.randint(1,6)\n",
        "  return r\n",
        "\n",
        "def roll_n_times(n):\n",
        "  total = 0\n",
        "  for i in range(n):\n",
        "    r1 = roll()\n",
        "    total = total + r1\n",
        "    # print(i, r1)\n",
        "\n",
        "  return total\n",
        "\n",
        "t1 = roll_n_times(5)\n",
        "t2 = roll_n_times(200)\n",
        "\n",
        "print(t1,t2)"
      ],
      "metadata": {
        "colab": {
          "base_uri": "https://localhost:8080/"
        },
        "id": "sFtnpxAdEz0q",
        "outputId": "03c82a0f-8846-4ffa-f309-6e3827b8a5e1"
      },
      "execution_count": 29,
      "outputs": [
        {
          "output_type": "stream",
          "name": "stdout",
          "text": [
            "18 716\n"
          ]
        }
      ]
    },
    {
      "cell_type": "code",
      "source": [
        "for i in range(20):\n",
        "  print(roll_n_times(200))"
      ],
      "metadata": {
        "colab": {
          "base_uri": "https://localhost:8080/"
        },
        "id": "w_vBJJdAFdd0",
        "outputId": "d97d78a9-a77e-4b3f-ae00-daaaf3a010e3"
      },
      "execution_count": 32,
      "outputs": [
        {
          "output_type": "stream",
          "name": "stdout",
          "text": [
            "669\n",
            "658\n",
            "714\n",
            "688\n",
            "674\n",
            "674\n",
            "733\n",
            "671\n",
            "758\n",
            "676\n",
            "710\n",
            "700\n",
            "686\n",
            "724\n",
            "736\n",
            "740\n",
            "689\n",
            "672\n",
            "677\n",
            "705\n"
          ]
        }
      ]
    },
    {
      "cell_type": "code",
      "source": [],
      "metadata": {
        "id": "9CBHJ9ybGE32"
      },
      "execution_count": null,
      "outputs": []
    }
  ]
}