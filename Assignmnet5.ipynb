{
  "nbformat": 4,
  "nbformat_minor": 0,
  "metadata": {
    "colab": {
      "provenance": [],
      "authorship_tag": "ABX9TyN1Ir+hKRrRI6o9DSs/C9WW",
      "include_colab_link": true
    },
    "kernelspec": {
      "name": "python3",
      "display_name": "Python 3"
    },
    "language_info": {
      "name": "python"
    }
  },
  "cells": [
    {
      "cell_type": "markdown",
      "metadata": {
        "id": "view-in-github",
        "colab_type": "text"
      },
      "source": [
        "<a href=\"https://colab.research.google.com/github/pthak002/CSC221_pthak002/blob/main/Assignmnet5.ipynb\" target=\"_parent\"><img src=\"https://colab.research.google.com/assets/colab-badge.svg\" alt=\"Open In Colab\"/></a>"
      ]
    },
    {
      "cell_type": "code",
      "execution_count": 8,
      "metadata": {
        "id": "IXwkqM9gtiP4",
        "colab": {
          "base_uri": "https://localhost:8080/"
        },
        "outputId": "2c9fb646-571d-4ead-9ee5-e6fe4e7fd85e"
      },
      "outputs": [
        {
          "output_type": "stream",
          "name": "stdout",
          "text": [
            "pepperoni\n",
            "cheese\n",
            "BBQ chicken\n",
            "\n",
            "I like pepperoni pizza.\n",
            "\n",
            "I like cheese pizza.\n",
            "\n",
            "I like BBQ chicken pizza.\n",
            "\n",
            "I really love pizza!\n"
          ]
        }
      ],
      "source": [
        "#TIY 4-1\n",
        "pizzas = [\"pepperoni\", \"cheese\", \"BBQ chicken\"]\n",
        "for pizza in pizzas:\n",
        "  print(pizza)\n",
        "\n",
        "for pizza in pizzas:\n",
        "  print(f\"\\nI like {pizza} pizza.\")\n",
        "\n",
        "print(\"\\nI really love pizza!\")\n",
        "\n"
      ]
    },
    {
      "cell_type": "code",
      "source": [
        "#TIY 4-2\n",
        "fyling_animals = [\"bird\", \"bat\", \"butterfly\"]\n",
        "\n",
        "for animal in fyling_animals:\n",
        "  print(animal)\n",
        "\n",
        "for animal in fyling_animals:\n",
        "  print(f\"\\nA {animal} can fly.\")\n",
        "\n",
        "print(\"\\nThese flying animals have in common:\")\n",
        "print(\"All of these animals can fly!\")"
      ],
      "metadata": {
        "colab": {
          "base_uri": "https://localhost:8080/"
        },
        "id": "0SSR4zlcfFB5",
        "outputId": "833f5560-f01a-4519-ebe1-4a32d2e2fa2c"
      },
      "execution_count": 14,
      "outputs": [
        {
          "output_type": "stream",
          "name": "stdout",
          "text": [
            "bird\n",
            "bat\n",
            "butterfly\n",
            "\n",
            "A bird can fly.\n",
            "\n",
            "A bat can fly.\n",
            "\n",
            "A butterfly can fly.\n",
            "\n",
            "These flying animals have in common:\n",
            "All of these animals can fly!\n"
          ]
        }
      ]
    },
    {
      "cell_type": "code",
      "source": [
        "#TIY 4-3\n",
        "\n",
        "for i in range(1, 21):\n",
        "  print(i)\n",
        "\n"
      ],
      "metadata": {
        "colab": {
          "base_uri": "https://localhost:8080/"
        },
        "id": "b_djLnahgfS-",
        "outputId": "a1a24f1d-8ffc-43d6-d379-8b85a09d5e93"
      },
      "execution_count": 15,
      "outputs": [
        {
          "output_type": "stream",
          "name": "stdout",
          "text": [
            "0\n",
            "1\n",
            "2\n",
            "3\n",
            "4\n",
            "5\n",
            "6\n",
            "7\n",
            "8\n",
            "9\n",
            "10\n",
            "11\n",
            "12\n",
            "13\n",
            "14\n",
            "15\n",
            "16\n",
            "17\n",
            "18\n",
            "19\n",
            "20\n"
          ]
        }
      ]
    },
    {
      "cell_type": "code",
      "source": [
        "#TIY 4-4\n",
        "\n",
        "for number in range(1, 1000001):\n",
        "  print(number)\n",
        ""
      ],
      "metadata": {
        "colab": {
          "base_uri": "https://localhost:8080/"
        },
        "id": "Z0R3h2KIiAes",
        "outputId": "26a689e3-8f1f-4441-a378-2178eb81f485"
      },
      "execution_count": 1,
      "outputs": [
        {
          "output_type": "stream",
          "name": "stdout",
          "text": [
            "1\n"
          ]
        }
      ]
    },
    {
      "cell_type": "code",
      "source": [
        "#TIY 4-5\n",
        "numbers = list(range(1, 1000001))\n",
        "\n",
        "print(\"Minimum:\", min(numbers))\n",
        "print(\"Maximum:\", max(numbers))\n",
        "\n",
        "print(\"Sum:\", sum(numbers))"
      ],
      "metadata": {
        "colab": {
          "base_uri": "https://localhost:8080/"
        },
        "id": "LKi06Zv_igFF",
        "outputId": "acb25d79-c87c-45cb-e866-6d204c941ebf"
      },
      "execution_count": 19,
      "outputs": [
        {
          "output_type": "stream",
          "name": "stdout",
          "text": [
            "Minimum: 1\n",
            "Maximum: 1000000\n",
            "Sum: 500000500000\n"
          ]
        }
      ]
    },
    {
      "cell_type": "code",
      "source": [
        "#TIY 4-6\n",
        "odd_numbers = list(range(1,21,2))\n",
        "\n",
        "for number in odd_numbers:\n",
        "  print(number)"
      ],
      "metadata": {
        "colab": {
          "base_uri": "https://localhost:8080/"
        },
        "id": "10Cl2IuXknzu",
        "outputId": "74e61fc6-1595-4b9e-d8eb-ddcbec397f0f"
      },
      "execution_count": 20,
      "outputs": [
        {
          "output_type": "stream",
          "name": "stdout",
          "text": [
            "1\n",
            "3\n",
            "5\n",
            "7\n",
            "9\n",
            "11\n",
            "13\n",
            "15\n",
            "17\n",
            "19\n"
          ]
        }
      ]
    },
    {
      "cell_type": "code",
      "source": [
        "#TIY 4-7\n",
        "multiple_of_3 = [num for num in range(3,31) if num % 3 == 0]\n",
        "\n",
        "for multiple in multiple_of_3:\n",
        "  print(multiple)"
      ],
      "metadata": {
        "colab": {
          "base_uri": "https://localhost:8080/"
        },
        "id": "CyxnAr9hlUZ0",
        "outputId": "7c3fe7f5-0fbc-4e58-8d41-f968097d9bac"
      },
      "execution_count": 21,
      "outputs": [
        {
          "output_type": "stream",
          "name": "stdout",
          "text": [
            "3\n",
            "6\n",
            "9\n",
            "12\n",
            "15\n",
            "18\n",
            "21\n",
            "24\n",
            "27\n",
            "30\n"
          ]
        }
      ]
    },
    {
      "cell_type": "code",
      "source": [
        "#TIY 4-8\n",
        "cubes = []\n",
        "\n",
        "for x in range(1,11):\n",
        "  cubes.append(x**3)\n",
        "\n",
        "for cube in cubes:\n",
        "  print(cube)\n"
      ],
      "metadata": {
        "colab": {
          "base_uri": "https://localhost:8080/"
        },
        "id": "KjD7fAPTnRtZ",
        "outputId": "62bee4c0-c918-4c12-e973-219c594efdc7"
      },
      "execution_count": 25,
      "outputs": [
        {
          "output_type": "stream",
          "name": "stdout",
          "text": [
            "1\n",
            "8\n",
            "27\n",
            "64\n",
            "125\n",
            "216\n",
            "343\n",
            "512\n",
            "729\n",
            "1000\n"
          ]
        }
      ]
    },
    {
      "cell_type": "code",
      "source": [
        "#TIY 4-9\n",
        "cubes = [num**3 for num in range(1,11)]\n",
        "\n",
        "for cube in cubes:\n",
        "  print(cube)"
      ],
      "metadata": {
        "colab": {
          "base_uri": "https://localhost:8080/"
        },
        "id": "M4uo--hrn76i",
        "outputId": "c0d102bc-db57-4eff-9c1a-7879d8e55aed"
      },
      "execution_count": 26,
      "outputs": [
        {
          "output_type": "stream",
          "name": "stdout",
          "text": [
            "1\n",
            "8\n",
            "27\n",
            "64\n",
            "125\n",
            "216\n",
            "343\n",
            "512\n",
            "729\n",
            "1000\n"
          ]
        }
      ]
    },
    {
      "cell_type": "code",
      "source": [
        "#TIY 4-10\n",
        "#i will use colors in list\n",
        "list = [\"yellow\", \"blue\", \"pink\", \"black\", \"white\", \"gray\", \"red\", \"green\", \"indigo\"]\n",
        "print(f\"\\nThe first three items in the list are : {list[0:3]}\")\n",
        "\n",
        "print(f\"\\nThe middle three items in the list are : {list[3:6]}\")\n",
        "\n",
        "print(f\"\\nThe last three items in the list are : {list[-3:]}\")"
      ],
      "metadata": {
        "colab": {
          "base_uri": "https://localhost:8080/"
        },
        "id": "qPX4vQSnozTn",
        "outputId": "27e50ab8-5e92-4b0a-d17c-164f4b8cf847"
      },
      "execution_count": 34,
      "outputs": [
        {
          "output_type": "stream",
          "name": "stdout",
          "text": [
            "\n",
            "The first three items in the list are : ['yellow', 'blue', 'pink']\n",
            "\n",
            "The middle three items in the list are : ['black', 'white', 'gray']\n",
            "\n",
            "The last three items in the list are : ['red', 'green', 'indigo']\n"
          ]
        }
      ]
    },
    {
      "cell_type": "code",
      "source": [
        "#TIY 4-11\n",
        "\n",
        "pizzas = [\"pepperoni\", \"cheese\", \"BBQ chicken\"]\n",
        "\n",
        "friends_pizza = pizzas[:]\n",
        "\n",
        "pizzas.append(\"sausage\")\n",
        "\n",
        "friends_pizza.append(\"vegeterian\")\n",
        "\n",
        "print(\"\\nMy favorite pizzas are:\")\n",
        "print(pizzas)\n",
        "\n",
        "print(\"\\nMy friend's favorite pizzas are:\")\n",
        "print(friends_pizza)"
      ],
      "metadata": {
        "colab": {
          "base_uri": "https://localhost:8080/"
        },
        "id": "G-GRiNjoprc4",
        "outputId": "dc62d801-c056-4f36-ad98-ee7ae960bd94"
      },
      "execution_count": 38,
      "outputs": [
        {
          "output_type": "stream",
          "name": "stdout",
          "text": [
            "\n",
            "My favorite pizzas are:\n",
            "['pepperoni', 'cheese', 'BBQ chicken', 'sausage']\n",
            "\n",
            "My friend's favorite pizzas are:\n",
            "['pepperoni', 'cheese', 'BBQ chicken', 'vegeterian']\n"
          ]
        }
      ]
    },
    {
      "cell_type": "code",
      "source": [
        "#TIY 4-12\n",
        "my_food = ['pizza', 'falafel', 'carrot cake']\n",
        "friends_food = my_food[:]\n",
        "\n",
        "my_food.append(\"icecream\")\n",
        "friends_food.append(\"cannoli\")\n",
        "\n",
        "print(\"\\nMy favorite foods are :\")\n",
        "for food in my_food:\n",
        "  print(food)\n",
        "\n",
        "print(\"\\nMy friend's favorite foods are :\")\n",
        "for food in friends_food:\n",
        "  print(food)"
      ],
      "metadata": {
        "colab": {
          "base_uri": "https://localhost:8080/"
        },
        "id": "9zbKEY_5sZHt",
        "outputId": "9aeb77ae-4056-405a-c58b-9812bdb4b4f9"
      },
      "execution_count": 39,
      "outputs": [
        {
          "output_type": "stream",
          "name": "stdout",
          "text": [
            "\n",
            "My favorite foods are :\n",
            "pizza\n",
            "falafel\n",
            "carrot cake\n",
            "icecream\n",
            "\n",
            "My friend's favorite foods are :\n",
            "pizza\n",
            "falafel\n",
            "carrot cake\n",
            "cannoli\n"
          ]
        }
      ]
    },
    {
      "cell_type": "markdown",
      "source": [],
      "metadata": {
        "id": "Sw33C7a3xSoo"
      }
    },
    {
      "cell_type": "code",
      "source": [
        "#TIY 4-13\n",
        "foods = (\"burger\", \"pizza\", \"fries\", \"carrot cake\", \"cannoli\")\n",
        "\n",
        "for food in foods:\n",
        "  print(food)\n",
        "\n",
        "#foods[0] = \"sausage\" #this line raised an error\n",
        "\n",
        "#replaced first two foods\n",
        "foods = (\"pasta\", \"hotdog\", \"fries\", \"carrot cake\", \"cannoli\")\n",
        "\n",
        "print(\"\\nRevised menu:\")\n",
        "for food in foods:\n",
        "  print(food)\n",
        "\n"
      ],
      "metadata": {
        "colab": {
          "base_uri": "https://localhost:8080/"
        },
        "id": "2QjFaLVhxYj1",
        "outputId": "cd4f4f12-63d1-4cc6-e905-0b1174395d54"
      },
      "execution_count": 43,
      "outputs": [
        {
          "output_type": "stream",
          "name": "stdout",
          "text": [
            "burger\n",
            "pizza\n",
            "fries\n",
            "carrot cake\n",
            "cannoli\n",
            "\n",
            "Revised menu:\n",
            "pasta\n",
            "hotdog\n",
            "fries\n",
            "carrot cake\n",
            "cannoli\n"
          ]
        }
      ]
    },
    {
      "cell_type": "code",
      "source": [
        "#TIY 4-14\n",
        "#looked through the pep 8 style guide\n"
      ],
      "metadata": {
        "id": "lHMiPqcZx10l"
      },
      "execution_count": 44,
      "outputs": []
    },
    {
      "cell_type": "code",
      "source": [
        "#TIY 4-15\n",
        "# here are the three programs that i chose and i am indenting as well\n",
        "\n",
        "#1\n",
        "cubes = [num ** 3 for num in range(1, 11)]\n",
        "\n",
        "for cube in cubes:\n",
        "    print(cube)\n",
        "\n",
        "#2\n",
        "numbers = list(range(1, 1000001))\n",
        "\n",
        "print(\"\\nMinimum:\", min(numbers))\n",
        "print(\"Maximum:\", max(numbers))\n",
        "print(\"Sum:\", sum(numbers))\n",
        "\n",
        "#3\n",
        "for i in range(1, 21):\n",
        "    print(i)\n",
        "\n",
        "\n",
        "\n"
      ],
      "metadata": {
        "colab": {
          "base_uri": "https://localhost:8080/"
        },
        "id": "8DSCWRpG3CSI",
        "outputId": "36bbccfa-4a06-486b-dba7-24432c361726"
      },
      "execution_count": 6,
      "outputs": [
        {
          "output_type": "stream",
          "name": "stdout",
          "text": [
            "1\n",
            "8\n",
            "27\n",
            "64\n",
            "125\n",
            "216\n",
            "343\n",
            "512\n",
            "729\n",
            "1000\n",
            "\n",
            "Minimum: 1\n",
            "Maximum: 1000000\n",
            "Sum: 500000500000\n",
            "1\n",
            "2\n",
            "3\n",
            "4\n",
            "5\n",
            "6\n",
            "7\n",
            "8\n",
            "9\n",
            "10\n",
            "11\n",
            "12\n",
            "13\n",
            "14\n",
            "15\n",
            "16\n",
            "17\n",
            "18\n",
            "19\n",
            "20\n"
          ]
        }
      ]
    },
    {
      "cell_type": "code",
      "source": [
        "#2\n",
        "def factorial(n):\n",
        "    if n < 0:\n",
        "        raise ValueError(\"Factorial is not defined for negative numbers\")\n",
        "    elif n == 0:\n",
        "        return 1\n",
        "    else:\n",
        "        numbers = list(range(1, n + 1))\n",
        "        product = 1\n",
        "        for x in numbers:\n",
        "            product *= x\n",
        "        return product\n",
        "\n",
        "print(factorial(5))\n",
        "print(factorial(10))\n",
        "print(factorial(20))\n",
        "print(factorial(50))"
      ],
      "metadata": {
        "colab": {
          "base_uri": "https://localhost:8080/"
        },
        "id": "ZP0ZARf2r1cP",
        "outputId": "2640dc7d-46f4-47ef-9dc9-fb58c08dc1f0"
      },
      "execution_count": 8,
      "outputs": [
        {
          "output_type": "stream",
          "name": "stdout",
          "text": [
            "120\n",
            "3628800\n",
            "2432902008176640000\n",
            "30414093201713378043612608166064768844377641568960512000000000000\n"
          ]
        }
      ]
    },
    {
      "cell_type": "code",
      "source": [
        "#3\n",
        "def special_factorial(n):\n",
        "    if n < 0:\n",
        "        raise ValueError(\"Factorial is not defined for negative numbers\")\n",
        "    elif n == 0:\n",
        "        return 1\n",
        "    else:\n",
        "        # Use a list comprehension to generate a list of numbers from 1 to n\n",
        "        numbers = list(range(1, n + 1))\n",
        "        # Remove 4, 13, and 22 from the list if they exist\n",
        "        for num in [4, 13, 22]:\n",
        "            if num in numbers:\n",
        "                numbers.remove(num)\n",
        "        product = 1\n",
        "        for x in numbers:\n",
        "            product *= x\n",
        "        return product\n",
        "print(special_factorial(5))\n",
        "print(special_factorial(10))\n",
        "print(special_factorial(20))\n",
        "print(special_factorial(50))\n",
        "\n",
        "\n"
      ],
      "metadata": {
        "colab": {
          "base_uri": "https://localhost:8080/"
        },
        "id": "f03_No-ms3Mg",
        "outputId": "34ba07ee-16c1-44e1-8e49-686c611bfb48"
      },
      "execution_count": 13,
      "outputs": [
        {
          "output_type": "stream",
          "name": "stdout",
          "text": [
            "30\n",
            "907200\n",
            "46786577080320000\n",
            "26585745805693512275885146998308364374455980392448000000000000\n"
          ]
        }
      ]
    },
    {
      "cell_type": "code",
      "source": [],
      "metadata": {
        "id": "CO3Ix0LkughO"
      },
      "execution_count": null,
      "outputs": []
    }
  ]
}