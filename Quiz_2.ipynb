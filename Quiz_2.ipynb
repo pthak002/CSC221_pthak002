{
  "nbformat": 4,
  "nbformat_minor": 0,
  "metadata": {
    "colab": {
      "provenance": [],
      "authorship_tag": "ABX9TyN7z/x/viqvfCepuFFKmwAf",
      "include_colab_link": true
    },
    "kernelspec": {
      "name": "python3",
      "display_name": "Python 3"
    },
    "language_info": {
      "name": "python"
    }
  },
  "cells": [
    {
      "cell_type": "markdown",
      "metadata": {
        "id": "view-in-github",
        "colab_type": "text"
      },
      "source": [
        "<a href=\"https://colab.research.google.com/github/pthak002/CSC221_pthak002/blob/main/Quiz_2.ipynb\" target=\"_parent\"><img src=\"https://colab.research.google.com/assets/colab-badge.svg\" alt=\"Open In Colab\"/></a>"
      ]
    },
    {
      "cell_type": "code",
      "execution_count": 1,
      "metadata": {
        "colab": {
          "base_uri": "https://localhost:8080/"
        },
        "id": "wpIH_GHQkHYs",
        "outputId": "22e20851-588b-4f40-be50-116a578a7cfc"
      },
      "outputs": [
        {
          "output_type": "stream",
          "name": "stdout",
          "text": [
            "5.0\n",
            "Cannot divide by zero\n"
          ]
        }
      ],
      "source": [
        "#1 None\n",
        "def divide_numbers(a, b):\n",
        "    \"\"\"\n",
        "    Divides two numbers and returns the result.\n",
        "    If the divisor (b) is zero, it returns None.\n",
        "    \"\"\"\n",
        "    if b == 0:\n",
        "        return None\n",
        "    else:\n",
        "        return a / b\n",
        "\n",
        "result1 = divide_numbers(10, 2)\n",
        "print(result1)\n",
        "\n",
        "result2 = divide_numbers(8, 0)\n",
        "if result2 is None:\n",
        "    print(\"Cannot divide by zero\")\n",
        "else:\n",
        "    print(result2)"
      ]
    },
    {
      "cell_type": "code",
      "source": [
        "#2 break\n",
        "print(\"Breaking out of a for loop\")\n",
        "fruits = [\"apple\", \"banana\", \"cherry\", \"orange\", \"kiwi\"]\n",
        "for fruit in fruits:\n",
        "    if fruit == \"cherry\":\n",
        "        print(f\"Found {fruit}, breaking out of the loop.\")\n",
        "        break\n",
        "    print(fruit)"
      ],
      "metadata": {
        "colab": {
          "base_uri": "https://localhost:8080/"
        },
        "id": "p1f0Vc70mn3k",
        "outputId": "bb5a87b9-c075-4b53-9c99-2591415564b3"
      },
      "execution_count": 2,
      "outputs": [
        {
          "output_type": "stream",
          "name": "stdout",
          "text": [
            "Breaking out of a for loop\n",
            "apple\n",
            "banana\n",
            "Found cherry, breaking out of the loop.\n"
          ]
        }
      ]
    },
    {
      "cell_type": "code",
      "source": [
        "#3 except\n",
        "try:\n",
        "    number = int(input(\"Enter a number: \"))\n",
        "    result = 100 / number\n",
        "    print(f\"Result: {result}\")\n",
        "except ValueError:\n",
        "    print(\"Invalid input. Please enter a number.\")\n",
        "except ZeroDivisionError:\n",
        "    print(\"Cannot divide by zero.\")\n"
      ],
      "metadata": {
        "colab": {
          "base_uri": "https://localhost:8080/"
        },
        "id": "k46WdvzDnFcl",
        "outputId": "74b1979d-5881-4f9c-d002-d62c542d23d5"
      },
      "execution_count": 4,
      "outputs": [
        {
          "output_type": "stream",
          "name": "stdout",
          "text": [
            "Enter a number: k[\n",
            "Invalid input. Please enter a number.\n"
          ]
        }
      ]
    },
    {
      "cell_type": "code",
      "source": [
        "#4 in\n",
        "numbers = [1, 2, 3, 4, 5]\n",
        "for num in numbers:\n",
        "    print(num)"
      ],
      "metadata": {
        "colab": {
          "base_uri": "https://localhost:8080/"
        },
        "id": "bnLSL_sbnVgn",
        "outputId": "eb46bb0a-1c45-4cb0-8bdc-4a73e617698b"
      },
      "execution_count": 5,
      "outputs": [
        {
          "output_type": "stream",
          "name": "stdout",
          "text": [
            "1\n",
            "2\n",
            "3\n",
            "4\n",
            "5\n"
          ]
        }
      ]
    },
    {
      "cell_type": "code",
      "source": [
        "#5 raise\n",
        "def check_age(age):\n",
        "    if age < 0:\n",
        "        raise ValueError(\"Age cannot be negative\")\n",
        "    else:\n",
        "        print(\"Valid age:\", age)\n",
        "\n",
        "try:\n",
        "    check_age(-1)\n",
        "except ValueError as e:\n",
        "    print(\"Caught an exception:\", e)\n"
      ],
      "metadata": {
        "colab": {
          "base_uri": "https://localhost:8080/"
        },
        "id": "idjvwqQenwCm",
        "outputId": "92a13837-4cc1-4a1a-e9d8-9c0a5e9154fa"
      },
      "execution_count": 6,
      "outputs": [
        {
          "output_type": "stream",
          "name": "stdout",
          "text": [
            "Caught an exception: Age cannot be negative\n"
          ]
        }
      ]
    },
    {
      "cell_type": "code",
      "source": [
        "#6 False\n",
        "def is_odd(n):\n",
        "    if n % 2 == 1:\n",
        "        return True\n",
        "    else:\n",
        "        return False\n",
        "\n",
        "\n",
        "number = 17\n",
        "if is_odd(number):\n",
        "    print(f\"{number} is an odd number.\")\n",
        "else:\n",
        "    print(f\"{number} is not an odd number.\")"
      ],
      "metadata": {
        "colab": {
          "base_uri": "https://localhost:8080/"
        },
        "id": "75-1KFdyoGiI",
        "outputId": "797ab847-172f-4292-fb25-2613bb6d3b5f"
      },
      "execution_count": 7,
      "outputs": [
        {
          "output_type": "stream",
          "name": "stdout",
          "text": [
            "17 is an odd number.\n"
          ]
        }
      ]
    },
    {
      "cell_type": "code",
      "source": [
        "#7 await\n",
        "import asyncio\n",
        "import nest_asyncio\n",
        "nest_asyncio.apply()\n",
        "\n",
        "\n",
        "async def count_down():\n",
        "    for i in range(5, 0, -1):\n",
        "        print(f\"Countdown: {i}\")\n",
        "        await asyncio.sleep(1)\n",
        "\n",
        "\n",
        "async def main():\n",
        "    print(\"Starting countdown:\")\n",
        "    await count_down()\n",
        "    print(\"Countdown complete!\")\n",
        "\n",
        "\n",
        "await main()\n"
      ],
      "metadata": {
        "colab": {
          "base_uri": "https://localhost:8080/"
        },
        "id": "JpDnr0kJo7O8",
        "outputId": "b2a13cbb-7bbd-4d46-ae61-3c84519a7e1a"
      },
      "execution_count": 13,
      "outputs": [
        {
          "output_type": "stream",
          "name": "stdout",
          "text": [
            "Starting countdown:\n",
            "Countdown: 5\n",
            "Countdown: 4\n",
            "Countdown: 3\n",
            "Countdown: 2\n",
            "Countdown: 1\n",
            "Countdown complete!\n"
          ]
        }
      ]
    },
    {
      "cell_type": "code",
      "source": [
        "!pip install nest_asyncio\n"
      ],
      "metadata": {
        "colab": {
          "base_uri": "https://localhost:8080/"
        },
        "id": "EY3CErG9pUtc",
        "outputId": "3bfed4af-567e-444c-992f-bcf84815c6ca"
      },
      "execution_count": 12,
      "outputs": [
        {
          "output_type": "stream",
          "name": "stdout",
          "text": [
            "Requirement already satisfied: nest_asyncio in /usr/local/lib/python3.10/dist-packages (1.6.0)\n"
          ]
        }
      ]
    },
    {
      "cell_type": "code",
      "source": [
        "#8 else\n",
        "x = 5\n",
        "\n",
        "if x > 10:\n",
        "    print(\"x is greater than 10\")\n",
        "else:\n",
        "    print(\"x is not greater than 10\")\n"
      ],
      "metadata": {
        "colab": {
          "base_uri": "https://localhost:8080/"
        },
        "id": "A7B9ds3mpvk7",
        "outputId": "99cf122c-ca77-4660-8092-67528c101341"
      },
      "execution_count": 14,
      "outputs": [
        {
          "output_type": "stream",
          "name": "stdout",
          "text": [
            "x is not greater than 10\n"
          ]
        }
      ]
    },
    {
      "cell_type": "code",
      "source": [
        "#9 import\n",
        "\n",
        "import math\n",
        "\n",
        "print(\"The square root of 16 is:\", math.sqrt(16))\n"
      ],
      "metadata": {
        "colab": {
          "base_uri": "https://localhost:8080/"
        },
        "id": "wF51p6SzqL0S",
        "outputId": "51b3f3c4-cdfd-46a1-adf2-88bcb2933d8c"
      },
      "execution_count": 15,
      "outputs": [
        {
          "output_type": "stream",
          "name": "stdout",
          "text": [
            "The square root of 16 is: 4.0\n"
          ]
        }
      ]
    },
    {
      "cell_type": "code",
      "source": [
        "#10 pass\n",
        "\n",
        "def placeholder_function():\n",
        "    pass\n",
        "\n",
        "x = int(input(\"Enter a number: \"))\n",
        "if x > 5:\n",
        "    pass\n",
        "else:\n",
        "    print(\"x is not greater than 5\")\n",
        "\n",
        "\n",
        "for i in range(5):\n",
        "    user_input = input(\"Enter something: \")\n",
        "    pass\n",
        "\n"
      ],
      "metadata": {
        "colab": {
          "base_uri": "https://localhost:8080/"
        },
        "id": "sydetJswqbvd",
        "outputId": "2b45f538-10af-45ea-a4a4-f0eefd549e7a"
      },
      "execution_count": 17,
      "outputs": [
        {
          "name": "stdout",
          "output_type": "stream",
          "text": [
            "Enter a number: 6\n",
            "Enter something: 0\n",
            "Enter something: 6\n",
            "Enter something: 4\n",
            "Enter something: 2\n",
            "Enter something: 1\n"
          ]
        }
      ]
    },
    {
      "cell_type": "code",
      "source": [
        "#11 and\n",
        "\n",
        "num1 = int(input(\"Enter the first number: \"))\n",
        "num2 = int(input(\"Enter the second number: \"))\n",
        "\n",
        "\n",
        "if num1 > 10 and num2 > 10:\n",
        "    print(\"Both numbers are greater than 10.\")\n",
        "else:\n",
        "    print(\"At least one number is not greater than 10.\")\n"
      ],
      "metadata": {
        "colab": {
          "base_uri": "https://localhost:8080/"
        },
        "id": "0thd4H4zqptW",
        "outputId": "1a54197f-d713-4b0c-892f-c5adb1577b3a"
      },
      "execution_count": 18,
      "outputs": [
        {
          "output_type": "stream",
          "name": "stdout",
          "text": [
            "Enter the first number: 2\n",
            "Enter the second number: 2\n",
            "At least one number is not greater than 10.\n"
          ]
        }
      ]
    },
    {
      "cell_type": "code",
      "source": [
        "#12 continue\n",
        "\n",
        "numbers = [1, 2, 3, 4, 5, 6, 7, 8, 9, 10]\n",
        "\n",
        "for num in numbers:\n",
        "    if num % 2 == 0:\n",
        "        continue\n",
        "    print(num)\n"
      ],
      "metadata": {
        "colab": {
          "base_uri": "https://localhost:8080/"
        },
        "id": "kKjvGfUrrAsC",
        "outputId": "b5cd7b30-04f8-4432-dd9b-16f90df985d8"
      },
      "execution_count": 19,
      "outputs": [
        {
          "output_type": "stream",
          "name": "stdout",
          "text": [
            "1\n",
            "3\n",
            "5\n",
            "7\n",
            "9\n"
          ]
        }
      ]
    },
    {
      "cell_type": "code",
      "source": [
        "#13 for\n",
        "\n",
        "fruits = [\"apple\", \"banana\", \"cherry\", \"date\"]\n",
        "\n",
        "for fruit in fruits:\n",
        "    print(\"I like\", fruit)\n"
      ],
      "metadata": {
        "colab": {
          "base_uri": "https://localhost:8080/"
        },
        "id": "JSM3QCeHraVn",
        "outputId": "af65ed1f-6c8e-4550-c7b7-9809ccde3856"
      },
      "execution_count": 20,
      "outputs": [
        {
          "output_type": "stream",
          "name": "stdout",
          "text": [
            "I like apple\n",
            "I like banana\n",
            "I like cherry\n",
            "I like date\n"
          ]
        }
      ]
    },
    {
      "cell_type": "code",
      "source": [
        "#14 lambda\n",
        "\n",
        "addition = lambda x, y: x + y\n",
        "\n",
        "\n",
        "result = addition(3, 5)\n",
        "print(\"The result of addition is:\", result)\n"
      ],
      "metadata": {
        "colab": {
          "base_uri": "https://localhost:8080/"
        },
        "id": "0DOUdH0trhox",
        "outputId": "c65069cd-897f-41f0-8a1c-5c0c64b1be29"
      },
      "execution_count": 21,
      "outputs": [
        {
          "output_type": "stream",
          "name": "stdout",
          "text": [
            "The result of addition is: 8\n"
          ]
        }
      ]
    },
    {
      "cell_type": "code",
      "source": [
        "#15 try\n",
        "\n",
        "try:\n",
        "    user_input = input(\"Enter a number: \")\n",
        "    number = int(user_input)\n",
        "    print(\"The square of\", number, \"is\", number ** 2)\n",
        "except ValueError:\n",
        "    print(\"Please enter a valid integer.\")\n"
      ],
      "metadata": {
        "colab": {
          "base_uri": "https://localhost:8080/"
        },
        "id": "thipetBPrqXL",
        "outputId": "34f16576-5081-4b78-effd-16cc358797f2"
      },
      "execution_count": 22,
      "outputs": [
        {
          "output_type": "stream",
          "name": "stdout",
          "text": [
            "Enter a number: 5\n",
            "The square of 5 is 25\n"
          ]
        }
      ]
    },
    {
      "cell_type": "code",
      "source": [
        "#16 True\n",
        "\n",
        "is_sunny = True\n",
        "\n",
        "if is_sunny:\n",
        "    print(\"It's a sunny day!\")\n",
        "else:\n",
        "    print(\"It's not sunny today.\")"
      ],
      "metadata": {
        "colab": {
          "base_uri": "https://localhost:8080/"
        },
        "id": "mxsWE5X7rzii",
        "outputId": "c72bdf24-792c-462c-ed2d-a99023994190"
      },
      "execution_count": 23,
      "outputs": [
        {
          "output_type": "stream",
          "name": "stdout",
          "text": [
            "It's a sunny day!\n"
          ]
        }
      ]
    },
    {
      "cell_type": "code",
      "source": [
        "#17 class\n",
        "\n",
        "class Person:\n",
        "    def __init__(self, name, age):\n",
        "        self.name = name\n",
        "        self.age = age\n",
        "\n",
        "    def display_info(self):\n",
        "        print(\"Name:\", self.name)\n",
        "        print(\"Age:\", self.age)\n",
        "\n",
        "\n",
        "person1 = Person(\"Alice\", 30)\n",
        "\n",
        "\n",
        "person1.display_info()\n"
      ],
      "metadata": {
        "colab": {
          "base_uri": "https://localhost:8080/"
        },
        "id": "2WZtsMwnsCcr",
        "outputId": "e6b12bae-b0aa-4b28-ec66-0c870e81b936"
      },
      "execution_count": 24,
      "outputs": [
        {
          "output_type": "stream",
          "name": "stdout",
          "text": [
            "Name: Alice\n",
            "Age: 30\n"
          ]
        }
      ]
    },
    {
      "cell_type": "code",
      "source": [
        "#18 finally\n",
        "def divide(a, b):\n",
        "    try:\n",
        "        result = a / b\n",
        "    except ZeroDivisionError:\n",
        "        print(\"Error: Division by zero\")\n",
        "    else:\n",
        "        print(\"Division result:\", result)\n",
        "    finally:\n",
        "        print(\"Division operation completed.\")\n",
        "\n",
        "# Test cases\n",
        "divide(10, 2)\n",
        "divide(8, 0)\n"
      ],
      "metadata": {
        "colab": {
          "base_uri": "https://localhost:8080/"
        },
        "id": "PmOovCkDtXfu",
        "outputId": "a0b3ea1e-d0dc-40cb-9f8a-5417e46f2a1a"
      },
      "execution_count": 66,
      "outputs": [
        {
          "output_type": "stream",
          "name": "stdout",
          "text": [
            "Division result: 5.0\n",
            "Division operation completed.\n",
            "Error: Division by zero\n",
            "Division operation completed.\n"
          ]
        }
      ]
    },
    {
      "cell_type": "code",
      "source": [
        "#19 is\n",
        "a = [1, 2, 3]\n",
        "b = a\n",
        "c = [1, 2, 3]\n",
        "\n",
        "print(a is b)\n",
        "print(a is c)\n"
      ],
      "metadata": {
        "colab": {
          "base_uri": "https://localhost:8080/"
        },
        "id": "Dj8ksQTauAi5",
        "outputId": "00b4cfe5-5240-48bd-cb6f-63dfe9683c6f"
      },
      "execution_count": 31,
      "outputs": [
        {
          "output_type": "stream",
          "name": "stdout",
          "text": [
            "True\n",
            "False\n"
          ]
        }
      ]
    },
    {
      "cell_type": "code",
      "source": [
        "#20 return\n",
        "def calculate_area(radius):\n",
        "    if radius <= 0:\n",
        "        print(\"Error: Radius must be a positive number.\")\n",
        "        return\n",
        "    area = 3.14159 * radius ** 2\n",
        "    return area\n",
        "\n",
        "circle_area = calculate_area(5)\n",
        "\n",
        "print(\"The area of the circle is:\", circle_area)\n"
      ],
      "metadata": {
        "colab": {
          "base_uri": "https://localhost:8080/"
        },
        "id": "wLmtPotWuJSY",
        "outputId": "4c297cea-4b4d-434d-d3ca-d597d7fd8d55"
      },
      "execution_count": 33,
      "outputs": [
        {
          "output_type": "stream",
          "name": "stdout",
          "text": [
            "The area of the circle is: 78.53975\n"
          ]
        }
      ]
    },
    {
      "cell_type": "code",
      "source": [
        "#21 as\n",
        "import math as m\n",
        "\n",
        "print(m.sqrt(16))\n",
        "\n",
        "#another use\n",
        "try:\n",
        "    result = 10 / 0\n",
        "except ZeroDivisionError as error:\n",
        "    print(\"Error occurred:\", error)\n",
        "\n"
      ],
      "metadata": {
        "colab": {
          "base_uri": "https://localhost:8080/"
        },
        "id": "q_L4XMjuubzb",
        "outputId": "23d1d78b-cdc4-4a78-a9aa-cd855adfecea"
      },
      "execution_count": 35,
      "outputs": [
        {
          "output_type": "stream",
          "name": "stdout",
          "text": [
            "4.0\n",
            "Error occurred: division by zero\n"
          ]
        }
      ]
    },
    {
      "cell_type": "code",
      "source": [
        "#22 def\n",
        "def add_numbers(a, b):\n",
        "    \"\"\"Add two numbers and return the result.\"\"\"\n",
        "    return a + b\n",
        "\n",
        "result = add_numbers(7, 5)\n",
        "print(\"The sum is:\", result)\n"
      ],
      "metadata": {
        "colab": {
          "base_uri": "https://localhost:8080/"
        },
        "id": "1SGS_HtjureA",
        "outputId": "4b4e96a7-15fc-4d55-a09b-06e2e2506ffd"
      },
      "execution_count": 37,
      "outputs": [
        {
          "output_type": "stream",
          "name": "stdout",
          "text": [
            "The sum is: 12\n"
          ]
        }
      ]
    },
    {
      "cell_type": "code",
      "source": [
        "#23 from\n",
        "from math import sqrt, pi\n",
        "\n",
        "print(\"Square root of 16:\", sqrt(16))\n",
        "print(\"Value of pi:\", pi)\n"
      ],
      "metadata": {
        "colab": {
          "base_uri": "https://localhost:8080/"
        },
        "id": "uOMezRuLu9x0",
        "outputId": "f6a172ad-030a-4b7c-f740-866a648baba3"
      },
      "execution_count": 38,
      "outputs": [
        {
          "output_type": "stream",
          "name": "stdout",
          "text": [
            "Square root of 16: 4.0\n",
            "Value of pi: 3.141592653589793\n"
          ]
        }
      ]
    },
    {
      "cell_type": "code",
      "source": [
        "#24 nonlocal\n",
        "def outer_function():\n",
        "    x = 10\n",
        "\n",
        "    def inner_function():\n",
        "        nonlocal x\n",
        "        x += 1\n",
        "        print(\"Inner function:\", x)\n",
        "\n",
        "    inner_function()\n",
        "    print(\"Outer function:\", x)\n",
        "\n",
        "outer_function()\n"
      ],
      "metadata": {
        "colab": {
          "base_uri": "https://localhost:8080/"
        },
        "id": "ChhPIFTBvJIG",
        "outputId": "b19773e2-6a21-4646-b8b6-bd31f1366982"
      },
      "execution_count": 39,
      "outputs": [
        {
          "output_type": "stream",
          "name": "stdout",
          "text": [
            "Inner function: 11\n",
            "Outer function: 11\n"
          ]
        }
      ]
    },
    {
      "cell_type": "code",
      "source": [
        "#25 while\n",
        "count = 1\n",
        "while count <= 5:\n",
        "    print(\"Count:\", count)\n",
        "    count += 1\n"
      ],
      "metadata": {
        "colab": {
          "base_uri": "https://localhost:8080/"
        },
        "id": "aYbrLTSJvTOp",
        "outputId": "363a8425-3d33-4f71-d77e-164c8afc3361"
      },
      "execution_count": 40,
      "outputs": [
        {
          "output_type": "stream",
          "name": "stdout",
          "text": [
            "Count: 1\n",
            "Count: 2\n",
            "Count: 3\n",
            "Count: 4\n",
            "Count: 5\n"
          ]
        }
      ]
    },
    {
      "cell_type": "code",
      "source": [
        "#26 async\n",
        "import asyncio\n",
        "\n",
        "async def greet(name):\n",
        "    await asyncio.sleep(1)\n",
        "    return f\"Hello, {name}!\"\n",
        "\n",
        "async def main():\n",
        "    result = await greet(\"volla\")\n",
        "    print(result)\n",
        "\n",
        "asyncio.run(main())\n"
      ],
      "metadata": {
        "colab": {
          "base_uri": "https://localhost:8080/"
        },
        "id": "8GqWSw6Ovao6",
        "outputId": "a59d5f75-ba8a-45d0-fe9d-69b1cff7aac4"
      },
      "execution_count": 42,
      "outputs": [
        {
          "output_type": "stream",
          "name": "stdout",
          "text": [
            "Hello, volla!\n"
          ]
        }
      ]
    },
    {
      "cell_type": "code",
      "source": [
        "#27 elif\n",
        "score = 90\n",
        "\n",
        "if score >= 90:\n",
        "    print(\"Grade: A\")\n",
        "elif score >= 80:\n",
        "    print(\"Grade: B\")\n",
        "elif score >= 70:\n",
        "    print(\"Grade: C\")\n",
        "elif score >= 60:\n",
        "    print(\"Grade: D\")\n",
        "else:\n",
        "    print(\"Grade: F\")\n"
      ],
      "metadata": {
        "colab": {
          "base_uri": "https://localhost:8080/"
        },
        "id": "smw2YhmuvjxG",
        "outputId": "3d210f8e-57c9-4799-f13e-a3df8482cae5"
      },
      "execution_count": 44,
      "outputs": [
        {
          "output_type": "stream",
          "name": "stdout",
          "text": [
            "Grade: A\n"
          ]
        }
      ]
    },
    {
      "cell_type": "code",
      "source": [
        "#28 if\n",
        "x = 3\n",
        "\n",
        "if x > 5:\n",
        "    print(\"x is greater than 5\")\n",
        "else:\n",
        "    print(\"x is not greater than 5\")\n"
      ],
      "metadata": {
        "colab": {
          "base_uri": "https://localhost:8080/"
        },
        "id": "cGJ_-CRWvweg",
        "outputId": "c027a8dc-76f9-4b7e-816e-afa4175ddb6c"
      },
      "execution_count": 45,
      "outputs": [
        {
          "output_type": "stream",
          "name": "stdout",
          "text": [
            "x is not greater than 5\n"
          ]
        }
      ]
    },
    {
      "cell_type": "code",
      "source": [
        "#29 not\n",
        "my_list = [1, 2, 3, 4, 5]\n",
        "\n",
        "if not 6 in my_list:\n",
        "    print(\"6 is not in the list\")\n",
        "else:\n",
        "    print(\"6 is in the list\")\n"
      ],
      "metadata": {
        "colab": {
          "base_uri": "https://localhost:8080/"
        },
        "id": "65ALopmfv4ij",
        "outputId": "29f2fbf5-a328-44c0-ea1b-66a7c72817b4"
      },
      "execution_count": 46,
      "outputs": [
        {
          "output_type": "stream",
          "name": "stdout",
          "text": [
            "6 is not in the list\n"
          ]
        }
      ]
    },
    {
      "cell_type": "code",
      "source": [
        "#30 with\n",
        "import time\n",
        "\n",
        "class Timer:\n",
        "    def __enter__(self):\n",
        "        self.start_time = time.time()\n",
        "        return self\n",
        "\n",
        "    def __exit__(self, exc_type, exc_value, traceback):\n",
        "        self.end_time = time.time()\n",
        "        self.execution_time = self.end_time - self.start_time\n",
        "        print(\"Execution time:\", self.execution_time, \"seconds\")\n",
        "\n",
        "with Timer():\n",
        "\n",
        "    time.sleep(2)\n",
        "    print(\"Task completed\")\n"
      ],
      "metadata": {
        "colab": {
          "base_uri": "https://localhost:8080/"
        },
        "id": "EOClDC-nwBAm",
        "outputId": "56a468b0-2907-4281-ed55-1001a8352b4e"
      },
      "execution_count": 48,
      "outputs": [
        {
          "output_type": "stream",
          "name": "stdout",
          "text": [
            "Task completed\n",
            "Execution time: 2.0026001930236816 seconds\n"
          ]
        }
      ]
    },
    {
      "cell_type": "code",
      "source": [
        "#31 assert\n",
        "def divide(a, b):\n",
        "    assert b != 0, \"Error: Division by zero\"\n",
        "    return a / b\n",
        "\n",
        "# Test cases\n",
        "print(divide(10, 2))\n",
        "print(divide(8, 0))\n"
      ],
      "metadata": {
        "colab": {
          "base_uri": "https://localhost:8080/",
          "height": 323
        },
        "id": "16AEjAsSwTHM",
        "outputId": "43e3c0b7-553c-4573-8552-73b70982f489"
      },
      "execution_count": 65,
      "outputs": [
        {
          "output_type": "stream",
          "name": "stdout",
          "text": [
            "5.0\n"
          ]
        },
        {
          "output_type": "error",
          "ename": "AssertionError",
          "evalue": "Error: Division by zero",
          "traceback": [
            "\u001b[0;31m---------------------------------------------------------------------------\u001b[0m",
            "\u001b[0;31mAssertionError\u001b[0m                            Traceback (most recent call last)",
            "\u001b[0;32m<ipython-input-65-7aba875ed932>\u001b[0m in \u001b[0;36m<cell line: 8>\u001b[0;34m()\u001b[0m\n\u001b[1;32m      6\u001b[0m \u001b[0;31m# Test cases\u001b[0m\u001b[0;34m\u001b[0m\u001b[0;34m\u001b[0m\u001b[0m\n\u001b[1;32m      7\u001b[0m \u001b[0mprint\u001b[0m\u001b[0;34m(\u001b[0m\u001b[0mdivide\u001b[0m\u001b[0;34m(\u001b[0m\u001b[0;36m10\u001b[0m\u001b[0;34m,\u001b[0m \u001b[0;36m2\u001b[0m\u001b[0;34m)\u001b[0m\u001b[0;34m)\u001b[0m  \u001b[0;31m# Output: 5.0\u001b[0m\u001b[0;34m\u001b[0m\u001b[0;34m\u001b[0m\u001b[0m\n\u001b[0;32m----> 8\u001b[0;31m \u001b[0mprint\u001b[0m\u001b[0;34m(\u001b[0m\u001b[0mdivide\u001b[0m\u001b[0;34m(\u001b[0m\u001b[0;36m8\u001b[0m\u001b[0;34m,\u001b[0m \u001b[0;36m0\u001b[0m\u001b[0;34m)\u001b[0m\u001b[0;34m)\u001b[0m   \u001b[0;31m# Raises AssertionError with message: Error: Division by zero\u001b[0m\u001b[0;34m\u001b[0m\u001b[0;34m\u001b[0m\u001b[0m\n\u001b[0m",
            "\u001b[0;32m<ipython-input-65-7aba875ed932>\u001b[0m in \u001b[0;36mdivide\u001b[0;34m(a, b)\u001b[0m\n\u001b[1;32m      1\u001b[0m \u001b[0;31m#31 assert\u001b[0m\u001b[0;34m\u001b[0m\u001b[0;34m\u001b[0m\u001b[0m\n\u001b[1;32m      2\u001b[0m \u001b[0;32mdef\u001b[0m \u001b[0mdivide\u001b[0m\u001b[0;34m(\u001b[0m\u001b[0ma\u001b[0m\u001b[0;34m,\u001b[0m \u001b[0mb\u001b[0m\u001b[0;34m)\u001b[0m\u001b[0;34m:\u001b[0m\u001b[0;34m\u001b[0m\u001b[0;34m\u001b[0m\u001b[0m\n\u001b[0;32m----> 3\u001b[0;31m     \u001b[0;32massert\u001b[0m \u001b[0mb\u001b[0m \u001b[0;34m!=\u001b[0m \u001b[0;36m0\u001b[0m\u001b[0;34m,\u001b[0m \u001b[0;34m\"Error: Division by zero\"\u001b[0m\u001b[0;34m\u001b[0m\u001b[0;34m\u001b[0m\u001b[0m\n\u001b[0m\u001b[1;32m      4\u001b[0m     \u001b[0;32mreturn\u001b[0m \u001b[0ma\u001b[0m \u001b[0;34m/\u001b[0m \u001b[0mb\u001b[0m\u001b[0;34m\u001b[0m\u001b[0;34m\u001b[0m\u001b[0m\n\u001b[1;32m      5\u001b[0m \u001b[0;34m\u001b[0m\u001b[0m\n",
            "\u001b[0;31mAssertionError\u001b[0m: Error: Division by zero"
          ]
        }
      ]
    },
    {
      "cell_type": "code",
      "source": [
        "#32 del\n",
        "my_list = [1, 2, 3, 4, 5]\n",
        "del my_list[0]\n",
        "print(my_list)\n"
      ],
      "metadata": {
        "colab": {
          "base_uri": "https://localhost:8080/"
        },
        "id": "NMYwyifEwhG_",
        "outputId": "321d4447-25a9-4fad-b710-8f89a8925808"
      },
      "execution_count": 57,
      "outputs": [
        {
          "output_type": "stream",
          "name": "stdout",
          "text": [
            "[2, 3, 4, 5]\n"
          ]
        }
      ]
    },
    {
      "cell_type": "code",
      "source": [
        "#33 global\n",
        "x = 10  # Global variable\n",
        "\n",
        "def foo():\n",
        "    x = 20   # it creates a new local variable x\n",
        "    #global variable x remains unchanged\n",
        "\n",
        "foo()\n",
        "print(x)\n"
      ],
      "metadata": {
        "colab": {
          "base_uri": "https://localhost:8080/"
        },
        "id": "MS6xCqNqxL1M",
        "outputId": "3e24593a-9cd3-4e0c-e9df-a6c2d76f507f"
      },
      "execution_count": 59,
      "outputs": [
        {
          "output_type": "stream",
          "name": "stdout",
          "text": [
            "10\n"
          ]
        }
      ]
    },
    {
      "cell_type": "code",
      "source": [
        "#34 or\n",
        "\n",
        "def check_positive_or_even(number):\n",
        "    if number > 0 or number % 2 == 0:\n",
        "        return True\n",
        "    else:\n",
        "        return False\n",
        "\n",
        "# Testing the function\n",
        "print(check_positive_or_even(-5))\n",
        "print(check_positive_or_even(-3))\n",
        "print(check_positive_or_even(8))\n"
      ],
      "metadata": {
        "colab": {
          "base_uri": "https://localhost:8080/"
        },
        "id": "RDc8rd0VxYcV",
        "outputId": "7ebff348-9a57-476d-f073-3ddfc071dfe5"
      },
      "execution_count": 61,
      "outputs": [
        {
          "output_type": "stream",
          "name": "stdout",
          "text": [
            "False\n",
            "False\n",
            "True\n"
          ]
        }
      ]
    },
    {
      "cell_type": "code",
      "source": [
        "#35 yeild\n",
        "\n",
        "def generate_even_numbers(start, end):\n",
        "    current = start\n",
        "    while current <= end:\n",
        "        if current % 2 == 0:\n",
        "            yield current\n",
        "        current += 1\n",
        "print(\"Even numbers between 10 and 20:\")\n",
        "for num in generate_even_numbers(10, 20):\n",
        "    print(num)\n",
        "even_numbers_list = list(generate_even_numbers(30, 40))\n",
        "print(\"List of even numbers between 30 and 40:\", even_numbers_list)\n"
      ],
      "metadata": {
        "colab": {
          "base_uri": "https://localhost:8080/"
        },
        "id": "EoWEOv7LxsCb",
        "outputId": "91398da5-f88d-4422-90ea-8f13812c8c6a"
      },
      "execution_count": 64,
      "outputs": [
        {
          "output_type": "stream",
          "name": "stdout",
          "text": [
            "Even numbers between 10 and 20:\n",
            "10\n",
            "12\n",
            "14\n",
            "16\n",
            "18\n",
            "20\n",
            "List of even numbers between 30 and 40: [30, 32, 34, 36, 38, 40]\n"
          ]
        }
      ]
    },
    {
      "cell_type": "code",
      "source": [],
      "metadata": {
        "id": "MJFnvBywx8Tr"
      },
      "execution_count": null,
      "outputs": []
    }
  ]
}