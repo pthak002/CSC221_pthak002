{
  "nbformat": 4,
  "nbformat_minor": 0,
  "metadata": {
    "colab": {
      "provenance": [],
      "authorship_tag": "ABX9TyOjePSxiNF99ebhiumXHnuj",
      "include_colab_link": true
    },
    "kernelspec": {
      "name": "python3",
      "display_name": "Python 3"
    },
    "language_info": {
      "name": "python"
    }
  },
  "cells": [
    {
      "cell_type": "markdown",
      "metadata": {
        "id": "view-in-github",
        "colab_type": "text"
      },
      "source": [
        "<a href=\"https://colab.research.google.com/github/pthak002/CSC221_pthak002/blob/main/Assignment7.ipynb\" target=\"_parent\"><img src=\"https://colab.research.google.com/assets/colab-badge.svg\" alt=\"Open In Colab\"/></a>"
      ]
    },
    {
      "cell_type": "code",
      "execution_count": 35,
      "metadata": {
        "colab": {
          "base_uri": "https://localhost:8080/"
        },
        "id": "ixQ1Iv06pXSw",
        "outputId": "11a79140-9692-421f-b58a-5790ca742ccd"
      },
      "outputs": [
        {
          "output_type": "stream",
          "name": "stdout",
          "text": [
            "First name: Prasamsha\n",
            "Last name: Thakuri\n",
            "age: 19\n",
            "city: Kathmandu\n"
          ]
        }
      ],
      "source": [
        "#TIY 6-1\n",
        "person = {\n",
        "    \"first_name\": \"Prasamsha\",\n",
        "    \"last_name\": \"Thakuri\",\n",
        "    \"age\": 19 ,\n",
        "    \"city\": \"Kathmandu\"\n",
        "    }\n",
        "\n",
        "print(\"First name:\", person['first_name'])\n",
        "print(\"Last name:\", person['last_name'])\n",
        "print(\"age:\", person[\"age\"])\n",
        "print(\"city:\", person[\"city\"])"
      ]
    },
    {
      "cell_type": "code",
      "source": [
        "#TIY 6-2\n",
        "friends = {\"Pravat\": 2, \"Prabin\": 7, \"Ishani\": 99, \"Sushan\":73, \"Yonisa\": 10}\n",
        "\n",
        "for name, number in friends.items():\n",
        "    print(f\"{name}'s favorite number is {number}.\")\n"
      ],
      "metadata": {
        "colab": {
          "base_uri": "https://localhost:8080/"
        },
        "id": "oGLXeikQpcrw",
        "outputId": "f2efc98c-cc8c-49d4-b735-12d6c2864764"
      },
      "execution_count": 36,
      "outputs": [
        {
          "output_type": "stream",
          "name": "stdout",
          "text": [
            "Pravat's favorite number is 2.\n",
            "Prabin's favorite number is 7.\n",
            "Ishani's favorite number is 99.\n",
            "Sushan's favorite number is 73.\n",
            "Yonisa's favorite number is 10.\n"
          ]
        }
      ]
    },
    {
      "cell_type": "code",
      "source": [
        "#TIY 6-3\n",
        "#del, .lower, def, slicing, .title\n",
        "\n",
        "glossary = {\n",
        "    \"del:\": \"A keyword used in Python to delete items from a list or dictionary.\",\n",
        "    \".lower:\": \"A method used in Python to convert a string to lowercase.\",\n",
        "    \"def:\": \"A keyword used in Python to define a function.\",\n",
        "    \"slicing:\": \"A technique in Python used to extract a subset of elements from a sequence like a list or string.\",\n",
        "    \".title:\": \"A method used in Python to capitalize the first letter of each word in a string.\"\n",
        "}\n",
        "\n",
        "for key, values in glossary.items():\n",
        "  print(f\"{key} \\n\\t{values}\")\n"
      ],
      "metadata": {
        "colab": {
          "base_uri": "https://localhost:8080/"
        },
        "id": "e_PSoiaRphNF",
        "outputId": "65a8c936-4461-438d-dd5b-b699f3009a2b"
      },
      "execution_count": 37,
      "outputs": [
        {
          "output_type": "stream",
          "name": "stdout",
          "text": [
            "del: \n",
            "\tA keyword used in Python to delete items from a list or dictionary.\n",
            ".lower: \n",
            "\tA method used in Python to convert a string to lowercase.\n",
            "def: \n",
            "\tA keyword used in Python to define a function.\n",
            "slicing: \n",
            "\tA technique in Python used to extract a subset of elements from a sequence like a list or string.\n",
            ".title: \n",
            "\tA method used in Python to capitalize the first letter of each word in a string.\n"
          ]
        }
      ]
    },
    {
      "cell_type": "code",
      "source": [
        "#TIY 6-4\n",
        "\n",
        "#glossARY FROM 6-3\n",
        "glossary = {\n",
        "    \"del:\": \"A keyword used in Python to delete items from a list or dictionary.\",\n",
        "    \".lower:\": \"A method used in Python to convert a string to lowercase.\",\n",
        "    \"def:\": \"A keyword used in Python to define a function.\",\n",
        "    \"slicing:\": \"A technique in Python used to extract a subset of elements from a sequence like a list or string.\",\n",
        "    \".title:\": \"A method used in Python to capitalize the first letter of each word in a string.\"\n",
        "}\n",
        "\n",
        "#adding new five terms\n",
        "glossary[\"list comprehension\"] = \"A concise way to create lists in Python \"\n",
        "glossary[\"tuple\"] = \"An immutable sequence in python\"\n",
        "glossary[\"dictionary\"] = \"A collection of key-value pairs in Python.\"\n",
        "glossary[\"set\"] = \"An unordered collection of unique elements in Python.\"\n",
        "glossary[\"module\"] = \"A file containing Python code that can be imported and used in another Python file.\"\n",
        "\n",
        "for key, values in glossary.items():\n",
        "  print(f\"\\n{key} \\n\\t{values}\")\n"
      ],
      "metadata": {
        "colab": {
          "base_uri": "https://localhost:8080/"
        },
        "id": "TQ_akW4ypjP_",
        "outputId": "2b607fe1-1ff3-4059-f50f-f7c580974e2d"
      },
      "execution_count": 38,
      "outputs": [
        {
          "output_type": "stream",
          "name": "stdout",
          "text": [
            "\n",
            "del: \n",
            "\tA keyword used in Python to delete items from a list or dictionary.\n",
            "\n",
            ".lower: \n",
            "\tA method used in Python to convert a string to lowercase.\n",
            "\n",
            "def: \n",
            "\tA keyword used in Python to define a function.\n",
            "\n",
            "slicing: \n",
            "\tA technique in Python used to extract a subset of elements from a sequence like a list or string.\n",
            "\n",
            ".title: \n",
            "\tA method used in Python to capitalize the first letter of each word in a string.\n",
            "\n",
            "list comprehension \n",
            "\tA concise way to create lists in Python \n",
            "\n",
            "tuple \n",
            "\tAn immutable sequence in python\n",
            "\n",
            "dictionary \n",
            "\tA collection of key-value pairs in Python.\n",
            "\n",
            "set \n",
            "\tAn unordered collection of unique elements in Python.\n",
            "\n",
            "module \n",
            "\tA file containing Python code that can be imported and used in another Python file.\n"
          ]
        }
      ]
    },
    {
      "cell_type": "code",
      "source": [
        "#TIY 6-11\n",
        "cities = {\n",
        "    \"Tokyo\": {\n",
        "        \"country\": \"Japan\",\n",
        "        \"population\": \"13.96 million\",\n",
        "         \"fact\": \"Tokyo is the largest city in Japan.\"\n",
        "    },\n",
        "    \"New York City\": {\n",
        "        \"country\": \"United States\",\n",
        "        \"population\": \"8.4 million\",\n",
        "        \"fact\": \"New York is known as a city that never sleeps.\"\n",
        "    },\n",
        "    \"London\":{\n",
        "        \"country\": \"United Kingdom\",\n",
        "        \"population\": \"8.9 million\",\n",
        "        \"fact\": \"london is the captical city of United Kingdom.\"\n",
        "\n",
        "    }\n",
        "\n",
        "}\n",
        "\n",
        "for city, information in cities.items():\n",
        "    print(f\"\\n{city}:\")\n",
        "    for key, values in information.items():\n",
        "      print(f\"\\t{key}: {values}\")"
      ],
      "metadata": {
        "colab": {
          "base_uri": "https://localhost:8080/"
        },
        "id": "gW0Y83ugplxk",
        "outputId": "d767836f-f4be-4829-cf62-ba5c90539d6d"
      },
      "execution_count": 39,
      "outputs": [
        {
          "output_type": "stream",
          "name": "stdout",
          "text": [
            "\n",
            "Tokyo:\n",
            "\tcountry: Japan\n",
            "\tpopulation: 13.96 million\n",
            "\tfact: Tokyo is the largest city in Japan.\n",
            "\n",
            "New York City:\n",
            "\tcountry: United States\n",
            "\tpopulation: 8.4 million\n",
            "\tfact: New York is known as a city that never sleeps.\n",
            "\n",
            "London:\n",
            "\tcountry: United Kingdom\n",
            "\tpopulation: 8.9 million\n",
            "\tfact: london is the captical city of United Kingdom.\n"
          ]
        }
      ]
    },
    {
      "cell_type": "code",
      "source": [
        "%%file grade.txt\n",
        "maya, 44\n",
        "aayanka, 34\n",
        "saif, 99\n",
        "kaya, 80\n",
        "nisha, 78\n",
        "suji, 92\n",
        "prabin, 87"
      ],
      "metadata": {
        "colab": {
          "base_uri": "https://localhost:8080/"
        },
        "id": "JXBgOqy4851x",
        "outputId": "27c8046f-a5db-45ea-8553-f832287cedde"
      },
      "execution_count": 40,
      "outputs": [
        {
          "output_type": "stream",
          "name": "stdout",
          "text": [
            "Overwriting grade.txt\n"
          ]
        }
      ]
    },
    {
      "cell_type": "code",
      "source": [
        "# Reading the file and creating a dictionary\n",
        "name_grade_dict = {}\n",
        "with open(\"grade.txt\", \"r\") as file:\n",
        "    for line in file:\n",
        "        parts = line.strip().split(\", \")\n",
        "        name = parts[0]\n",
        "        grade = int(parts[1])\n",
        "        name_grade_dict[name] = grade\n",
        "\n",
        "#ALBHABETICALLY\n",
        "print(\"Sorted by names:\")\n",
        "for name in sorted(name_grade_dict.keys()):\n",
        "    print(f\"{name}: {name_grade_dict[name]}\")\n",
        "\n",
        "#from highest to lowest\n",
        "print(\"\\nSorted by grades (highest to lowest):\")\n",
        "for name, grade in sorted(name_grade_dict.items(), key=lambda x: x[1], reverse=True):\n",
        "    print(f\"{name}: {grade}\")\n"
      ],
      "metadata": {
        "colab": {
          "base_uri": "https://localhost:8080/"
        },
        "id": "TdTGSFnkGhlb",
        "outputId": "0a1827e8-5c25-4a93-bde8-dea657a6d459"
      },
      "execution_count": 41,
      "outputs": [
        {
          "output_type": "stream",
          "name": "stdout",
          "text": [
            "Sorted by names:\n",
            "aayanka: 34\n",
            "kaya: 80\n",
            "maya: 44\n",
            "nisha: 78\n",
            "prabin: 87\n",
            "saif: 99\n",
            "suji: 92\n",
            "\n",
            "Sorted by grades (highest to lowest):\n",
            "saif: 99\n",
            "suji: 92\n",
            "prabin: 87\n",
            "kaya: 80\n",
            "nisha: 78\n",
            "maya: 44\n",
            "aayanka: 34\n"
          ]
        }
      ]
    }
  ]
}