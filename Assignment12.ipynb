{
  "nbformat": 4,
  "nbformat_minor": 0,
  "metadata": {
    "colab": {
      "provenance": [],
      "authorship_tag": "ABX9TyMVkgG5uLGQsKXNpDeE4qAy",
      "include_colab_link": true
    },
    "kernelspec": {
      "name": "python3",
      "display_name": "Python 3"
    },
    "language_info": {
      "name": "python"
    }
  },
  "cells": [
    {
      "cell_type": "markdown",
      "metadata": {
        "id": "view-in-github",
        "colab_type": "text"
      },
      "source": [
        "<a href=\"https://colab.research.google.com/github/pthak002/CSC221_pthak002/blob/main/Assignment12.ipynb\" target=\"_parent\"><img src=\"https://colab.research.google.com/assets/colab-badge.svg\" alt=\"Open In Colab\"/></a>"
      ]
    },
    {
      "cell_type": "markdown",
      "source": [
        "1. Object-oriented design to represent US money.\n",
        "\n",
        "---\n",
        "\n"
      ],
      "metadata": {
        "id": "Wu0JbzFglz1J"
      }
    },
    {
      "cell_type": "code",
      "execution_count": 7,
      "metadata": {
        "colab": {
          "base_uri": "https://localhost:8080/"
        },
        "id": "76cJjdubkyrt",
        "outputId": "fd99d2e6-f059-449f-ee69-d27c48fd27a7"
      },
      "outputs": [
        {
          "output_type": "stream",
          "name": "stdout",
          "text": [
            "Contents of wallet:\n",
            "$1.00\n",
            "$1.00\n",
            "$5.00\n",
            "$10.00\n",
            "$0.05\n",
            "$0.10\n",
            "$0.25\n",
            "$0.25\n",
            "$0.25\n",
            "$0.01\n",
            "$0.01\n",
            "$0.01\n",
            "$0.01\n",
            "$0.01\n",
            "Total money in wallet: 17.95000000000001\n"
          ]
        }
      ],
      "source": [
        "\n",
        "class Money:\n",
        "    def __init__(self, value):\n",
        "        self.value = value\n",
        "\n",
        "    def __repr__(self):\n",
        "        return f\"${self.value:.2f}\"\n",
        "\n",
        "class Bills(Money):\n",
        "    pass\n",
        "\n",
        "class Coins(Money):\n",
        "    pass\n",
        "\n",
        "class One(Bills):\n",
        "    def __init__(self):\n",
        "        super().__init__(1)\n",
        "\n",
        "class Five(Bills):\n",
        "    def __init__(self):\n",
        "        super().__init__(5)\n",
        "\n",
        "class Ten(Bills):\n",
        "    def __init__(self):\n",
        "        super().__init__(10)\n",
        "\n",
        "class Twenty(Bills):\n",
        "    def __init__(self):\n",
        "        super().__init__(20)\n",
        "\n",
        "class Penny(Coins):\n",
        "    def __init__(self):\n",
        "        super().__init__(0.01)\n",
        "\n",
        "class Nickel(Coins):\n",
        "    def __init__(self):\n",
        "        super().__init__(0.05)\n",
        "\n",
        "class Dime(Coins):\n",
        "    def __init__(self):\n",
        "        super().__init__(0.10)\n",
        "\n",
        "class Quarter(Coins):\n",
        "    def __init__(self):\n",
        "        super().__init__(0.25)\n",
        "\n",
        "def create_wallet():\n",
        "    return [\n",
        "        One(),\n",
        "        One(),\n",
        "        Five(),\n",
        "        Ten(),\n",
        "        Nickel(),\n",
        "        Dime(),\n",
        "        Quarter(),\n",
        "        Quarter(),\n",
        "        Quarter(),\n",
        "        Penny(),\n",
        "        Penny(),\n",
        "        Penny(),\n",
        "        Penny(),\n",
        "        Penny()\n",
        "    ]\n",
        "\n",
        "def calculate_total(wallet):\n",
        "    return sum(money.value for money in wallet)\n",
        "\n",
        "def print_wallet_contents(wallet):\n",
        "    print(\"Contents of wallet:\")\n",
        "    for money in wallet:\n",
        "        print(money)\n",
        "\n",
        "def test_money_representation():\n",
        "    # Creating some bills and coins\n",
        "    one_bill = One()\n",
        "    five_bill = Five()\n",
        "    penny_coin = Penny()\n",
        "    quarter_coin = Quarter()\n",
        "\n",
        "    # Checking the values\n",
        "    assert one_bill.value == 1\n",
        "    assert five_bill.value == 5\n",
        "    assert penny_coin.value == 0.01\n",
        "    assert quarter_coin.value == 0.25\n",
        "\n",
        "def test_wallet_sum():\n",
        "    # Creating a wallet\n",
        "    wallet = create_wallet()\n",
        "\n",
        "    # Calculating the total value\n",
        "    total = calculate_total(wallet)\n",
        "\n",
        "    # Checking the total value\n",
        "    assert total == 17.81\n",
        "\n",
        "# Running the test cases\n",
        "def test_wallet_sum():\n",
        "    # Creating a wallet\n",
        "    wallet = create_wallet()\n",
        "\n",
        "    # Calculating the total value and round it to two decimal places\n",
        "    total = round(calculate_total(wallet), 2)\n",
        "\n",
        "    # Checks the total value\n",
        "    assert total == 17.81\n",
        "\n",
        "# Main code\n",
        "wallet = create_wallet()\n",
        "print_wallet_contents(wallet)\n",
        "total = calculate_total(wallet)\n",
        "print(\"Total money in wallet:\", total)\n"
      ]
    },
    {
      "cell_type": "code",
      "source": [
        "class Animal:\n",
        "    def __init__(self, species, sound):\n",
        "        self.species = species\n",
        "        self.sound = sound\n",
        "\n",
        "    def make_sound(self):\n",
        "        print(f\"The {self.species} says {self.sound}!\")\n",
        "\n",
        "class Mammal(Animal):\n",
        "    def __init__(self, species, sound, fur_color):\n",
        "        super().__init__(species, sound)\n",
        "        self.fur_color = fur_color\n",
        "\n",
        "    def describe(self):\n",
        "        print(f\"The {self.species} has {self.fur_color} fur.\")\n",
        "\n",
        "class Bird(Animal):\n",
        "    def __init__(self, species, sound, wingspan):\n",
        "        super().__init__(species, sound)\n",
        "        self.wingspan = wingspan\n",
        "\n",
        "    def describe(self):\n",
        "        print(f\"The {self.species} has a wingspan of {self.wingspan} inches.\")\n",
        "\n",
        "# Creating instances of different types of animals\n",
        "animals = [\n",
        "    Mammal(\"Lion\", \"roar\", \"golden\"),\n",
        "    Bird(\"Eagle\", \"screech\", 72),\n",
        "    Mammal(\"Bear\", \"growl\", \"brown\")\n",
        "]\n",
        "\n",
        "# Describing and make sounds for each animal\n",
        "for animal in animals:\n",
        "    animal.describe()\n",
        "    animal.make_sound()\n"
      ],
      "metadata": {
        "colab": {
          "base_uri": "https://localhost:8080/"
        },
        "id": "9veU5eUila9L",
        "outputId": "fa9dee19-5d18-4deb-d5ef-723afc3cfa0a"
      },
      "execution_count": 8,
      "outputs": [
        {
          "output_type": "stream",
          "name": "stdout",
          "text": [
            "The Lion has golden fur.\n",
            "The Lion says roar!\n",
            "The Eagle has a wingspan of 72 inches.\n",
            "The Eagle says screech!\n",
            "The Bear has brown fur.\n",
            "The Bear says growl!\n"
          ]
        }
      ]
    },
    {
      "cell_type": "code",
      "source": [],
      "metadata": {
        "id": "zvrvLy6xmUl0"
      },
      "execution_count": 8,
      "outputs": []
    }
  ]
}