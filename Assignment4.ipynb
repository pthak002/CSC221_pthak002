{
  "nbformat": 4,
  "nbformat_minor": 0,
  "metadata": {
    "colab": {
      "provenance": [],
      "authorship_tag": "ABX9TyNG7f6ihI2wiEcWxh9nTa1F",
      "include_colab_link": true
    },
    "kernelspec": {
      "name": "python3",
      "display_name": "Python 3"
    },
    "language_info": {
      "name": "python"
    }
  },
  "cells": [
    {
      "cell_type": "markdown",
      "metadata": {
        "id": "view-in-github",
        "colab_type": "text"
      },
      "source": [
        "<a href=\"https://colab.research.google.com/github/pthak002/CSC221_pthak002/blob/main/Assignment4.ipynb\" target=\"_parent\"><img src=\"https://colab.research.google.com/assets/colab-badge.svg\" alt=\"Open In Colab\"/></a>"
      ]
    },
    {
      "cell_type": "code",
      "execution_count": 53,
      "metadata": {
        "colab": {
          "base_uri": "https://localhost:8080/"
        },
        "id": "D_BFiHWIOo3M",
        "outputId": "05d0a456-0fb8-4bfb-9ddc-9d0cdc01b0cd"
      },
      "outputs": [
        {
          "output_type": "stream",
          "name": "stdout",
          "text": [
            "Shasha\n",
            "Amen\n",
            "Cody\n"
          ]
        }
      ],
      "source": [
        "#TIY 3-1\n",
        "names = [\"Shasha\", \"Amen\", \"Cody\"]\n",
        "for name in names:\n",
        "  print(name)"
      ]
    },
    {
      "cell_type": "code",
      "source": [
        "#TIY 3-2\n",
        "names = [\"Shasha\", \"Amen\", \"Cody\"]\n",
        "for name in names:\n",
        "  message = (f\"Hi {name}! How are you?\")\n",
        "  print(message)"
      ],
      "metadata": {
        "colab": {
          "base_uri": "https://localhost:8080/"
        },
        "id": "Hb-BdXfvPB3K",
        "outputId": "506a081e-b16b-4286-ce0d-664c6c49389f"
      },
      "execution_count": 54,
      "outputs": [
        {
          "output_type": "stream",
          "name": "stdout",
          "text": [
            "Hi Shasha! How are you?\n",
            "Hi Amen! How are you?\n",
            "Hi Cody! How are you?\n"
          ]
        }
      ]
    },
    {
      "cell_type": "code",
      "source": [
        "#TIY 3-3\n",
        "transportation_mode = [\"plane\", \"car\", \"motorcycle\"]\n",
        "for mode in transportation_mode:\n",
        "  print(f\"I would like to own {mode}. \")\n",
        ""
      ],
      "metadata": {
        "colab": {
          "base_uri": "https://localhost:8080/"
        },
        "id": "pjk9XVL7mQgy",
        "outputId": "c06dc0f7-7a15-4f32-d7a9-81f3a4c976e9"
      },
      "execution_count": 55,
      "outputs": [
        {
          "output_type": "stream",
          "name": "stdout",
          "text": [
            "I would like to own plane. \n",
            "I would like to own car. \n",
            "I would like to own motorcycle. \n"
          ]
        }
      ]
    },
    {
      "cell_type": "code",
      "source": [
        "#TIY 3-4\n",
        "guest_list = [\"Stephen Curry\", \"Lebron James\", \"Kobe Bryant\"]\n",
        "for name in guest_list:\n",
        "  print(f\"\\nHi {name}!, I would like to invite you to dinner\")"
      ],
      "metadata": {
        "colab": {
          "base_uri": "https://localhost:8080/"
        },
        "id": "Lyw-j3-f5yrA",
        "outputId": "6c47c3e0-b443-4575-e6fe-9a6505029d2d"
      },
      "execution_count": 56,
      "outputs": [
        {
          "output_type": "stream",
          "name": "stdout",
          "text": [
            "\n",
            "Hi Stephen Curry!, I would like to invite you to dinner\n",
            "\n",
            "Hi Lebron James!, I would like to invite you to dinner\n",
            "\n",
            "Hi Kobe Bryant!, I would like to invite you to dinner\n"
          ]
        }
      ]
    },
    {
      "cell_type": "code",
      "source": [
        "#TIY 3-5\n",
        "\n",
        "guest_list = [\"Stephen Curry\", \"Lebron James\", \"Kobe Bryant\"]\n",
        "guest_unavailable = guest_list[1]\n",
        "guest_new = \"Kevin Durant\"\n",
        "\n",
        "print(f\"{guest_unavailable} can't make it to dinner.\")\n",
        "\n",
        "guest_list.remove(guest_list[1])\n",
        "guest_list.append(guest_new)\n",
        "\n",
        "for name in guest_list:\n",
        "  print(f\"\\nHi {name}!, I would like to invite you to dinner\")"
      ],
      "metadata": {
        "colab": {
          "base_uri": "https://localhost:8080/"
        },
        "id": "rSW5_JCQ7nxE",
        "outputId": "4cc41c4c-13ae-47e9-b771-ffad21e126eb"
      },
      "execution_count": 57,
      "outputs": [
        {
          "output_type": "stream",
          "name": "stdout",
          "text": [
            "Lebron James can't make it to dinner.\n",
            "\n",
            "Hi Stephen Curry!, I would like to invite you to dinner\n",
            "\n",
            "Hi Kobe Bryant!, I would like to invite you to dinner\n",
            "\n",
            "Hi Kevin Durant!, I would like to invite you to dinner\n"
          ]
        }
      ]
    },
    {
      "cell_type": "code",
      "source": [
        "#TIY 3-6\n",
        "guest_list = [\"Stephen Curry\", \"Lebron James\", \"Kobe Bryant\"]\n",
        "guest_unavailable = guest_list[1]\n",
        "guest_new = \"Kevin Durant\"\n",
        "\n",
        "print(f\"{guest_unavailable} can't make it to dinner.\")\n",
        "\n",
        "guest_list.remove(guest_list[1])\n",
        "guest_list.append(guest_new)\n",
        "\n",
        "\n",
        "print(\"\\nHi , I would like to inform everyone that I got a bigger dining table\")\n",
        "\n",
        "guest_list.insert(0, \"Jason Tatum\")\n",
        "guest_list.insert(2, \"Seth Curry\")\n",
        "guest_list.append(\"James Harden\")\n",
        "\n",
        "for name in guest_list:\n",
        "  print(f\"\\nHi {name}!, I would like to invite you to dinner\")\n"
      ],
      "metadata": {
        "colab": {
          "base_uri": "https://localhost:8080/"
        },
        "id": "oKCuO-Dx8O8i",
        "outputId": "72d7592c-f791-40bf-8d79-6f85b5f6af43"
      },
      "execution_count": 58,
      "outputs": [
        {
          "output_type": "stream",
          "name": "stdout",
          "text": [
            "Lebron James can't make it to dinner.\n",
            "\n",
            "Hi , I would like to inform everyone that I got a bigger dining table\n",
            "\n",
            "Hi Jason Tatum!, I would like to invite you to dinner\n",
            "\n",
            "Hi Stephen Curry!, I would like to invite you to dinner\n",
            "\n",
            "Hi Seth Curry!, I would like to invite you to dinner\n",
            "\n",
            "Hi Kobe Bryant!, I would like to invite you to dinner\n",
            "\n",
            "Hi Kevin Durant!, I would like to invite you to dinner\n",
            "\n",
            "Hi James Harden!, I would like to invite you to dinner\n"
          ]
        }
      ]
    },
    {
      "cell_type": "code",
      "source": [
        "#TIY 3-7\n",
        "\n",
        "guest_list = [\"Stephen Curry\", \"Lebron James\", \"Kobe Bryant\"]\n",
        "guest_unavailable = guest_list[1]\n",
        "guest_new = \"Kevin Durant\"\n",
        "\n",
        "print(f\"{guest_unavailable} can't make it to dinner.\")\n",
        "\n",
        "guest_list.remove(guest_list[1])\n",
        "guest_list.append(guest_new)\n",
        "\n",
        "\n",
        "print(\"\\nHi , I would like to inform everyone that I got a bigger dining table\\n\")\n",
        "\n",
        "guest_list.insert(0, \"Jason Tatum\")\n",
        "guest_list.insert(2, \"Seth Curry\")\n",
        "guest_list.append(\"James Harden\")\n",
        "\n",
        "for name in guest_list:\n",
        "  print(f\"Hi {name}!, I would like to invite you to dinner\")\n",
        "print(\"\\nHi , I got to know that I can only invite two people for dinner.\\n\")\n",
        "\n",
        "while len(guest_list) > 2:\n",
        "    removed_guest = guest_list.pop()\n",
        "    print(f\"Sorry {removed_guest}, I can't invite you to dinner.\")\n",
        "\n",
        "for name in guest_list:\n",
        "    print(f\"\\nHi {name}!, You're still invited to dinner.\")\n",
        "\n",
        "del guest_list[:]\n",
        "print(guest_list)\n"
      ],
      "metadata": {
        "colab": {
          "base_uri": "https://localhost:8080/"
        },
        "id": "li6yZMg0Audv",
        "outputId": "43f711c0-ce69-4c3a-ba56-286aeb3a79cf"
      },
      "execution_count": 59,
      "outputs": [
        {
          "output_type": "stream",
          "name": "stdout",
          "text": [
            "Lebron James can't make it to dinner.\n",
            "\n",
            "Hi , I would like to inform everyone that I got a bigger dining table\n",
            "\n",
            "Hi Jason Tatum!, I would like to invite you to dinner\n",
            "Hi Stephen Curry!, I would like to invite you to dinner\n",
            "Hi Seth Curry!, I would like to invite you to dinner\n",
            "Hi Kobe Bryant!, I would like to invite you to dinner\n",
            "Hi Kevin Durant!, I would like to invite you to dinner\n",
            "Hi James Harden!, I would like to invite you to dinner\n",
            "\n",
            "Hi , I got to know that I can only invite two people for dinner.\n",
            "\n",
            "Sorry James Harden, I can't invite you to dinner.\n",
            "Sorry Kevin Durant, I can't invite you to dinner.\n",
            "Sorry Kobe Bryant, I can't invite you to dinner.\n",
            "Sorry Seth Curry, I can't invite you to dinner.\n",
            "\n",
            "Hi Jason Tatum!, You're still invited to dinner.\n",
            "\n",
            "Hi Stephen Curry!, You're still invited to dinner.\n",
            "[]\n"
          ]
        }
      ]
    },
    {
      "cell_type": "code",
      "source": [
        "#TIY 3-8\n",
        "\n",
        "places = [\"tokyo\", \"kathmandu\", \"pokhara\", \"yokohama\", \"mustang\"]\n",
        "print(places)\n",
        "\n",
        "print(sorted(places))\n",
        "\n",
        "print(places)\n",
        "\n",
        "print(sorted(places, reverse = True))\n",
        "\n",
        "print(places)\n",
        "\n",
        "places.reverse()\n",
        "print(places)\n",
        "\n",
        "places.reverse()\n",
        "print(places)\n",
        "\n",
        "places.sort\n",
        "print(places)\n",
        "\n",
        "places.sort(reverse = True)\n",
        "print(places)"
      ],
      "metadata": {
        "colab": {
          "base_uri": "https://localhost:8080/"
        },
        "id": "XGdZ3bHwDBgs",
        "outputId": "fc3efdab-93a8-4789-db16-a163fa324570"
      },
      "execution_count": 60,
      "outputs": [
        {
          "output_type": "stream",
          "name": "stdout",
          "text": [
            "['tokyo', 'kathmandu', 'pokhara', 'yokohama', 'mustang']\n",
            "['kathmandu', 'mustang', 'pokhara', 'tokyo', 'yokohama']\n",
            "['tokyo', 'kathmandu', 'pokhara', 'yokohama', 'mustang']\n",
            "['yokohama', 'tokyo', 'pokhara', 'mustang', 'kathmandu']\n",
            "['tokyo', 'kathmandu', 'pokhara', 'yokohama', 'mustang']\n",
            "['mustang', 'yokohama', 'pokhara', 'kathmandu', 'tokyo']\n",
            "['tokyo', 'kathmandu', 'pokhara', 'yokohama', 'mustang']\n",
            "['tokyo', 'kathmandu', 'pokhara', 'yokohama', 'mustang']\n",
            "['yokohama', 'tokyo', 'pokhara', 'mustang', 'kathmandu']\n"
          ]
        }
      ]
    },
    {
      "cell_type": "code",
      "source": [
        "#TIY 3-9\n",
        "#I chose 3-5\n",
        "\n",
        "guest_list = [\"Stephen Curry\", \"Lebron James\", \"Kobe Bryant\"]\n",
        "guest_unavailable = guest_list[1]\n",
        "guest_new = \"Kevin Durant\"\n",
        "\n",
        "print(f\"{guest_unavailable} can't make it to dinner.\")\n",
        "\n",
        "guest_list.remove(guest_list[1])\n",
        "guest_list.append(guest_new)\n",
        "\n",
        "for name in guest_list:\n",
        "  print(f\"\\nHi {name}!, I would like to invite you to dinner\")\n",
        "\n",
        "print(f\"\\nI am inviting {len(guest_list)} people to dinner.\")"
      ],
      "metadata": {
        "colab": {
          "base_uri": "https://localhost:8080/"
        },
        "id": "yWbSw5Cpf-19",
        "outputId": "459a8fea-a7be-4d91-8206-476cbc284d47"
      },
      "execution_count": 61,
      "outputs": [
        {
          "output_type": "stream",
          "name": "stdout",
          "text": [
            "Lebron James can't make it to dinner.\n",
            "\n",
            "Hi Stephen Curry!, I would like to invite you to dinner\n",
            "\n",
            "Hi Kobe Bryant!, I would like to invite you to dinner\n",
            "\n",
            "Hi Kevin Durant!, I would like to invite you to dinner\n",
            "\n",
            "I am inviting 3 people to dinner.\n"
          ]
        }
      ]
    },
    {
      "cell_type": "code",
      "source": [
        "#TIY 3-10\n",
        "\n",
        "countries = [\"USA\", \"Nepal\", \"India\", \"China\",\"Japan\"]\n",
        "\n",
        "print(f\"The first country in the list is {countries[0]}\")\n",
        "\n",
        "countries[2] = \"Brazil\"\n",
        "#MODIFYING the list\n",
        "print(countries)\n",
        "\n",
        "#adding another country at the end of the list\n",
        "countries.append(\"Thailand\")\n",
        "print(countries)\n",
        "\n",
        "#inserting a country in the list\n",
        "countries.insert(3, \" North Korea\")\n",
        "print(countries)\n",
        "\n",
        "#removing an item from a list\n",
        "#deletes the item on 4th index\n",
        "del countries[4]\n",
        "print(countries)\n",
        "\n",
        "#removing an item using pop, it removes the last item on the list\n",
        "countries.pop()\n",
        "print(countries)\n",
        "\n",
        "#removing an item using remove() method, it removes brazil from the list\n",
        "countries.remove(\"Brazil\")\n",
        "print(countries)\n",
        "\n",
        "#sorting the list permanently with sort()\n",
        "countries.sort()\n",
        "print(countries)\n",
        "\n",
        "##sorting the list temorarily with sorted()\n",
        "sorted(countries)\n",
        "print(countries)\n",
        "\n",
        "countries.reverse()\n",
        "print(countries)\n",
        "\n",
        "\n",
        "print(f\"There are {len(countries)} countries in the list.\")"
      ],
      "metadata": {
        "colab": {
          "base_uri": "https://localhost:8080/"
        },
        "id": "hqWthHr8j80l",
        "outputId": "08e14c7a-b72a-405c-8bb6-7f7b69757da7"
      },
      "execution_count": 62,
      "outputs": [
        {
          "output_type": "stream",
          "name": "stdout",
          "text": [
            "The first country in the list is USA\n",
            "['USA', 'Nepal', 'Brazil', 'China', 'Japan']\n",
            "['USA', 'Nepal', 'Brazil', 'China', 'Japan', 'Thailand']\n",
            "['USA', 'Nepal', 'Brazil', ' North Korea', 'China', 'Japan', 'Thailand']\n",
            "['USA', 'Nepal', 'Brazil', ' North Korea', 'Japan', 'Thailand']\n",
            "['USA', 'Nepal', 'Brazil', ' North Korea', 'Japan']\n",
            "['USA', 'Nepal', ' North Korea', 'Japan']\n",
            "[' North Korea', 'Japan', 'Nepal', 'USA']\n",
            "[' North Korea', 'Japan', 'Nepal', 'USA']\n",
            "['USA', 'Nepal', 'Japan', ' North Korea']\n",
            "There are 4 countries in the list.\n"
          ]
        }
      ]
    },
    {
      "cell_type": "code",
      "source": [
        "#TIY 3-11\n",
        "\n",
        "#making an index error\n",
        "#my_list = [1,2,3]\n",
        "#print(my_list[3])\n",
        "#the above 2 codes gives index error since there is no 4th element to access\n",
        "\n",
        "#I am going to fix it now\n",
        "my_list = [1,2,3]\n",
        "print(my_list[2])"
      ],
      "metadata": {
        "colab": {
          "base_uri": "https://localhost:8080/"
        },
        "id": "CXVcSi58pB9A",
        "outputId": "bab7c714-e15d-4fe4-90d3-89ef78dbb4fc"
      },
      "execution_count": 63,
      "outputs": [
        {
          "output_type": "stream",
          "name": "stdout",
          "text": [
            "3\n"
          ]
        }
      ]
    },
    {
      "cell_type": "code",
      "source": [],
      "metadata": {
        "id": "x3PzTi-csll_"
      },
      "execution_count": 63,
      "outputs": []
    }
  ]
}