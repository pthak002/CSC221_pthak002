{
  "nbformat": 4,
  "nbformat_minor": 0,
  "metadata": {
    "colab": {
      "provenance": [],
      "authorship_tag": "ABX9TyMtHerWYpf92K9KmnC6UfKt",
      "include_colab_link": true
    },
    "kernelspec": {
      "name": "python3",
      "display_name": "Python 3"
    },
    "language_info": {
      "name": "python"
    }
  },
  "cells": [
    {
      "cell_type": "markdown",
      "metadata": {
        "id": "view-in-github",
        "colab_type": "text"
      },
      "source": [
        "<a href=\"https://colab.research.google.com/github/pthak002/CSC221_pthak002/blob/main/Assignment6.ipynb\" target=\"_parent\"><img src=\"https://colab.research.google.com/assets/colab-badge.svg\" alt=\"Open In Colab\"/></a>"
      ]
    },
    {
      "cell_type": "code",
      "execution_count": 10,
      "metadata": {
        "id": "pSxq7aZS8Ckd",
        "colab": {
          "base_uri": "https://localhost:8080/"
        },
        "outputId": "60ad5204-d007-4bcf-eadc-5df661af35c1"
      },
      "outputs": [
        {
          "output_type": "stream",
          "name": "stdout",
          "text": [
            "Is the number == 8? I predict True \n",
            "True\n",
            "\n",
            "Is the number == 5? I predict False \n",
            "False\n",
            "\n",
            "Is the number != 5? I predict True \n",
            "True\n",
            "\n",
            "Is the number > 5? I predict True \n",
            "True\n",
            "\n",
            "Is the number < 5? I predict False \n",
            "False\n",
            "\n",
            "Is the number >= 8? I predict True \n",
            "True\n",
            "\n",
            "Is the number <= 8? I predict True \n",
            "True\n",
            "\n",
            "Is the number % 2 == 0? I predict True \n",
            "True\n",
            "\n",
            "Is the number % 3 == 0? I predict False \n",
            "False\n",
            "\n",
            "Is the number == 8  and  number % 2 == 0? I predict True \n",
            "True\n"
          ]
        }
      ],
      "source": [
        "#TIY 5-1\n",
        "\n",
        "number = 8\n",
        "\n",
        "#test 1\n",
        "print(\"Is the number == 8? I predict True \")\n",
        "print(number == 8)\n",
        "#test2\n",
        "print(\"\\nIs the number == 5? I predict False \")\n",
        "print(number == 5)\n",
        "#test 3\n",
        "print(\"\\nIs the number != 5? I predict True \")\n",
        "print(number != 5)\n",
        "#test 4\n",
        "print(\"\\nIs the number > 5? I predict True \")\n",
        "print(number > 5)\n",
        "#test 5\n",
        "print(\"\\nIs the number < 5? I predict False \")\n",
        "print(number < 5)\n",
        "#test6\n",
        "print(\"\\nIs the number >= 8? I predict True \")\n",
        "print(number >= 8)\n",
        "#test7\n",
        "print(\"\\nIs the number <= 8? I predict True \")\n",
        "print(number <= 8)\n",
        "#test8\n",
        "print(\"\\nIs the number % 2 == 0? I predict True \")\n",
        "print(number % 2 == 0)\n",
        "#test9\n",
        "print(\"\\nIs the number % 3 == 0? I predict False \")\n",
        "print(number % 3 == 0)\n",
        "#test10\n",
        "print(\"\\nIs the number == 8  and  number % 2 == 0? I predict True \")\n",
        "print(number == 8 and number % 2 == 0)"
      ]
    },
    {
      "cell_type": "code",
      "source": [
        "#TIY 5-2\n",
        "# Tests for equality and inequality with strings\n",
        "\n",
        "print(\"\\nEquality and inequality with strings\\n\")\n",
        "print(\"'hello' == 'hello', I predict True.\")\n",
        "print('hello' == 'hello')\n",
        "\n",
        "print(\"\\n'Hello' == 'hello', I predict False.\")\n",
        "print('Hello' == 'hello')\n",
        "\n",
        "print(\"Test using lower() method\")\n",
        "print(\"\\n'CLASS.lower()' == 'class?, I predict True.\" )\n",
        "print(\"CLASS\".lower() == \"class\")\n",
        "\n",
        "print(\"\\n'CLASS.lower()' == 'Class?, I predict False.\" )\n",
        "print(\"CLASS\".lower() == \"Class\")\n",
        "\n",
        "#Test for numerical values\n",
        "print(\"\\nNumerical tests:\")\n",
        "\n",
        "num = 24\n",
        "print(\"Is the num == 24? I predict True \")\n",
        "print(num == 24)\n",
        "\n",
        "print(\"\\nIs the num == 9? I predict False \")\n",
        "print(num == 9)\n",
        "\n",
        "print(\"\\nIs the num != 4? I predict False \")\n",
        "print(num == 4)\n",
        "\n",
        "print(\"\\nIs the num > 4? I predict True \")\n",
        "print(num > 4)\n",
        "\n",
        "print(\"\\nIs the num < 12? I predict False \")\n",
        "print(num < 12)\n",
        "\n",
        "print(\"\\nIs the num >= 24? I predict True \")\n",
        "print(num >= 24)\n",
        "\n",
        "print(\"\\nIs the num <= 23? I predict False \")\n",
        "print(num <= 23)\n",
        "\n",
        "print(\"\\nTests using 'and' and 'or':\")\n",
        "x = 10\n",
        "y = 5\n",
        "\n",
        "print(\"\\n Is x == 10 and y == 5?, I predict True\")\n",
        "print(x == 10 and y == 5)\n",
        "\n",
        "print(\"\\n Is x == 8 and y == 5?, I predict False\")\n",
        "print(x == 8 and y == 5)\n",
        "\n",
        "print(\"\\n Is x == 8 or y == 5?, I predict True\")\n",
        "print(x == 8 or y == 5)\n",
        "\n",
        "print(\"\\nTesting whether an item is in a list:\")\n",
        "\n",
        "animal = [\"cow\", \"elephant\", \"snake\"]\n",
        "\n",
        "print(\"\\nIs 'cow' in animal?, I predict True\")\n",
        "print(\"cow\" in animal)\n",
        "\n",
        "print(\"\\nIs 'lion' in animal?, I predict False\")\n",
        "print(\"lion\" in animal)\n",
        "\n",
        "print(\"\\nTesting whether an item is not in a list:\")\n",
        "print(\"\\nIs 'lion' not in animal?, I predict True\")\n",
        "print(\"lion\" not in animal)\n",
        "\n",
        "print(\"\\nIs 'cow'not in animal?, I predict False\")\n",
        "print(\"cow\" not in animal)"
      ],
      "metadata": {
        "colab": {
          "base_uri": "https://localhost:8080/"
        },
        "id": "gUI0P5FjktEe",
        "outputId": "b8da6a79-7d6a-4c56-fa9a-1a2710c39436"
      },
      "execution_count": 29,
      "outputs": [
        {
          "output_type": "stream",
          "name": "stdout",
          "text": [
            "\n",
            "Equality and inequality with strings\n",
            "\n",
            "'hello' == 'hello', I predict True.\n",
            "True\n",
            "\n",
            "'Hello' == 'hello', I predict False.\n",
            "False\n",
            "Test using lower() method\n",
            "\n",
            "'CLASS.lower()' == 'class?, I predict True.\n",
            "True\n",
            "\n",
            "'CLASS.lower()' == 'Class?, I predict False.\n",
            "False\n",
            "\n",
            "Numerical tests:\n",
            "Is the num == 24? I predict True \n",
            "True\n",
            "\n",
            "Is the num == 9? I predict False \n",
            "False\n",
            "\n",
            "Is the num != 4? I predict False \n",
            "False\n",
            "\n",
            "Is the num > 4? I predict True \n",
            "True\n",
            "\n",
            "Is the num < 12? I predict False \n",
            "False\n",
            "\n",
            "Is the num >= 24? I predict True \n",
            "True\n",
            "\n",
            "Is the num <= 23? I predict False \n",
            "False\n",
            "\n",
            "Tests using 'and' and 'or':\n",
            "\n",
            " Is x == 10 and y == 5?, I predict True\n",
            "True\n",
            "\n",
            " Is x == 8 and y == 5?, I predict False\n",
            "False\n",
            "\n",
            " Is x == 8 or y == 5?, I predict True\n",
            "True\n",
            "\n",
            "Testing whether an item is in a list:\n",
            "\n",
            "Is 'cow' in animal?, I predict True\n",
            "True\n",
            "\n",
            "Is 'lion' in animal?, I predict False\n",
            "False\n",
            "\n",
            "Testing whether an item is not in a list:\n",
            "\n",
            "Is 'lion' not in animal?, I predict True\n",
            "True\n",
            "\n",
            "Is 'cow'not in animal?, I predict False\n",
            "False\n"
          ]
        }
      ]
    },
    {
      "cell_type": "code",
      "source": [
        "#TIY 5-3\n",
        "alien_color = \"green\"\n",
        "\n",
        "if alien_color == \"green\":\n",
        "  print(\"You just earned 5 points.\")\n"
      ],
      "metadata": {
        "colab": {
          "base_uri": "https://localhost:8080/"
        },
        "id": "KCP-lDkz3hqf",
        "outputId": "856b473d-b1cb-47b6-b1f7-f9295d1ebe43"
      },
      "execution_count": 33,
      "outputs": [
        {
          "output_type": "stream",
          "name": "stdout",
          "text": [
            "You just earned 5 points.\n"
          ]
        }
      ]
    },
    {
      "cell_type": "code",
      "source": [
        "#TIY 5-3\n",
        "#another program\n",
        "\n",
        "if alien_color == \"red\":\n",
        "  print(\"You just earned 5 points\")"
      ],
      "metadata": {
        "id": "RMozN1hb9UkT"
      },
      "execution_count": 32,
      "outputs": []
    },
    {
      "cell_type": "code",
      "source": [
        "#TIY 5-6\n",
        "\n",
        "person_age = 19\n",
        "\n",
        "if person_age < 2:\n",
        "  print(\"The person is a baby.\")\n",
        "elif person_age >= 2 and person_age < 4:\n",
        "  print(\"The person is a toddle.\")\n",
        "elif person_age >= 4 and person_age < 13:\n",
        "  print(\"The person is a kid.\")\n",
        "elif person_age >= 13 and person_age < 20:\n",
        "  print(\"The person is a tennager.\")\n",
        "elif person_age >= 20 and person_age < 65:\n",
        "  print(\"The person is an adult.\")\n",
        "else:\n",
        "  print(\"The person is an elder.\")"
      ],
      "metadata": {
        "colab": {
          "base_uri": "https://localhost:8080/"
        },
        "id": "7I7_BzLj9hWB",
        "outputId": "1b422ebc-a340-4269-c1f6-51c3bc03b73c"
      },
      "execution_count": 36,
      "outputs": [
        {
          "output_type": "stream",
          "name": "stdout",
          "text": [
            "The person is a tennager.\n"
          ]
        }
      ]
    },
    {
      "cell_type": "code",
      "source": [
        "#TIY 5-12\n",
        " #Reviewed the programs that I  wrote and made sure I styled these conditional tests appropriately.\n",
        ""
      ],
      "metadata": {
        "id": "EBC6BtEoB1L0"
      },
      "execution_count": null,
      "outputs": []
    },
    {
      "cell_type": "code",
      "source": [
        "#TIY 5-13\n",
        "#I am going to create a program that helps the user to decide a type of outfit based on the weather\n",
        "\n",
        "#Pseudocode\n",
        "#1. asking the user to input the current temperature in Fahernheit\n",
        "#2. If the the input is less that 50°F then I will suggest the user to wear a jacket because it is cold ooutside.\n",
        "#3. elif the input is between 50 to 70 then i will suggest the user to wear a light jacket or sweater.\n",
        "#4 else: the input is greater than 70 then i will say wear a tshirt or light clothing.\n",
        "\n",
        "\n",
        "#code:\n",
        "\n",
        "temperature = input(\"Enter current temperature in Fahrenheit : \")\n",
        "temperature = float(temperature)\n",
        "\n",
        "def outfit_of_the_day(temperature):\n",
        "  if temperature < 50:\n",
        "    return(\"It is cold outside, wear a jacket.\")\n",
        "  elif temperature >=50 and temperature <= 70:\n",
        "    return(\"Wear a light jacket or sweater.\")\n",
        "  elif temperature >=70 and temperature <= 85:\n",
        "    return(\"Wear a tshirt and shorts.\")\n",
        "  else:\n",
        "    return \"Invalid temperature input.\"\n",
        "\n",
        "recommendation = outfit_of_the_day(temperature)\n",
        "print(recommendation)"
      ],
      "metadata": {
        "colab": {
          "base_uri": "https://localhost:8080/"
        },
        "id": "DlKwpWI9DfR1",
        "outputId": "4b05b6a4-56ff-4feb-9d20-c580a2e1a866"
      },
      "execution_count": 46,
      "outputs": [
        {
          "output_type": "stream",
          "name": "stdout",
          "text": [
            "Enter current temperature in Fahrenheit : 80\n",
            "Wear a tshirt and shorts.\n"
          ]
        }
      ]
    },
    {
      "cell_type": "code",
      "source": [],
      "metadata": {
        "id": "orzStxRJGkQJ"
      },
      "execution_count": 46,
      "outputs": []
    }
  ]
}