{
  "nbformat": 4,
  "nbformat_minor": 0,
  "metadata": {
    "colab": {
      "provenance": [],
      "authorship_tag": "ABX9TyOLhpt7Ukk8mUmEOz9d+GdI",
      "include_colab_link": true
    },
    "kernelspec": {
      "name": "python3",
      "display_name": "Python 3"
    },
    "language_info": {
      "name": "python"
    }
  },
  "cells": [
    {
      "cell_type": "markdown",
      "metadata": {
        "id": "view-in-github",
        "colab_type": "text"
      },
      "source": [
        "<a href=\"https://colab.research.google.com/github/pthak002/CSC221_pthak002/blob/main/Assignment3.ipynb\" target=\"_parent\"><img src=\"https://colab.research.google.com/assets/colab-badge.svg\" alt=\"Open In Colab\"/></a>"
      ]
    },
    {
      "cell_type": "code",
      "execution_count": 80,
      "metadata": {
        "colab": {
          "base_uri": "https://localhost:8080/"
        },
        "id": "g37E-tme2QH1",
        "outputId": "20fbbd0a-cb5e-4c4a-f453-52cdc12768ba"
      },
      "outputs": [
        {
          "output_type": "stream",
          "name": "stdout",
          "text": [
            "Hi my name is Prasamsha\n"
          ]
        }
      ],
      "source": [
        "#TIY 2-1\n",
        "simple_message = \"Hi my name is Prasamsha\"\n",
        "print(simple_message)"
      ]
    },
    {
      "cell_type": "code",
      "source": [
        "#TIY 2-2\n",
        "message = \"Hi I am 19 years old.\"\n",
        "print(message)\n",
        "\n",
        "#changing the message\n",
        "message = \"Hi I am 20 years old.\"\n",
        "print(message)"
      ],
      "metadata": {
        "colab": {
          "base_uri": "https://localhost:8080/"
        },
        "id": "c7vxef3h3jEG",
        "outputId": "d8b5b41f-4cdc-4499-b682-b14fbdfe2fed"
      },
      "execution_count": 81,
      "outputs": [
        {
          "output_type": "stream",
          "name": "stdout",
          "text": [
            "Hi I am 19 years old.\n",
            "Hi I am 20 years old.\n"
          ]
        }
      ]
    },
    {
      "cell_type": "code",
      "source": [
        "\n",
        "#TIY 2-3\n",
        "name = \"Prasamsha\"\n",
        "print(f\"Hello {name}, would you like to learn some Python today?\")\n"
      ],
      "metadata": {
        "colab": {
          "base_uri": "https://localhost:8080/"
        },
        "id": "sP7xkaRP35lv",
        "outputId": "443127ec-222d-40bd-964d-9131cb98c681"
      },
      "execution_count": 82,
      "outputs": [
        {
          "output_type": "stream",
          "name": "stdout",
          "text": [
            "Hello Prasamsha, would you like to learn some Python today?\n"
          ]
        }
      ]
    },
    {
      "cell_type": "code",
      "source": [
        "#TIY 2-4\n",
        "name = \"Joan Didion\"\n",
        "print(name.lower())\n",
        "print(name.upper())\n",
        "print(name.title())"
      ],
      "metadata": {
        "colab": {
          "base_uri": "https://localhost:8080/"
        },
        "id": "GGq5pR0Q4pBQ",
        "outputId": "188fc3cb-fea7-44f4-d67b-f04f24f33e06"
      },
      "execution_count": 83,
      "outputs": [
        {
          "output_type": "stream",
          "name": "stdout",
          "text": [
            "joan didion\n",
            "JOAN DIDION\n",
            "Joan Didion\n"
          ]
        }
      ]
    },
    {
      "cell_type": "code",
      "source": [
        "#TIY 2-5\n",
        "name = \"Stephen Curry\"\n",
        "quote = \"Success is not an accident, success is actually a choice.\"\n",
        "\n",
        "print(f'{name} once said, \" {quote}\"')"
      ],
      "metadata": {
        "colab": {
          "base_uri": "https://localhost:8080/"
        },
        "id": "tPr_8W7T5Zp_",
        "outputId": "1288e7b6-8c66-46a3-dc24-92251dc24e9f"
      },
      "execution_count": 84,
      "outputs": [
        {
          "output_type": "stream",
          "name": "stdout",
          "text": [
            "Stephen Curry once said, \" Success is not an accident, success is actually a choice.\"\n"
          ]
        }
      ]
    },
    {
      "cell_type": "code",
      "source": [
        "#TIY 2-6\n",
        "famous_name = \"Stephen Curry\"\n",
        "quote = \"Success is not an accident, success is actually a choice.\"\n",
        "\n",
        "message = f'{famous_name} once said, \" {quote}\"'\n",
        "\n",
        "print(message)"
      ],
      "metadata": {
        "colab": {
          "base_uri": "https://localhost:8080/"
        },
        "id": "CFnXKVTC5Kyd",
        "outputId": "19ddf923-b22c-4b8c-ad01-b70ee4787fd5"
      },
      "execution_count": 85,
      "outputs": [
        {
          "output_type": "stream",
          "name": "stdout",
          "text": [
            "Stephen Curry once said, \" Success is not an accident, success is actually a choice.\"\n"
          ]
        }
      ]
    },
    {
      "cell_type": "code",
      "source": [
        "#TIY 2-7\n",
        "person_name = \"\\t John Doen \\n \"\n",
        "\n",
        "\n",
        "print(person_name)\n",
        "\n",
        "\n",
        "print(person_name.lstrip())\n",
        "print(person_name.rstrip())\n",
        "print(person_name.strip())\n",
        "\n"
      ],
      "metadata": {
        "colab": {
          "base_uri": "https://localhost:8080/"
        },
        "id": "xKNM_01M7okw",
        "outputId": "deb1b6c3-98fe-44cc-f199-0741008fb568"
      },
      "execution_count": 86,
      "outputs": [
        {
          "output_type": "stream",
          "name": "stdout",
          "text": [
            "\t John Doen \n",
            " \n",
            "John Doen \n",
            " \n",
            "\t John Doen\n",
            "John Doen\n"
          ]
        }
      ]
    },
    {
      "cell_type": "code",
      "source": [
        "#TIY 2-8\n",
        "\n",
        "print(4 + 4)\n",
        "print(12 - 4)\n",
        "print(4 * 2)\n",
        "#I put int so that the answer is 8 not 8.0\n",
        "print(int(64 / 8))\n"
      ],
      "metadata": {
        "colab": {
          "base_uri": "https://localhost:8080/"
        },
        "id": "d3IqrnZu9uet",
        "outputId": "eaff899f-bc30-43a3-c797-914e0e20193f"
      },
      "execution_count": 87,
      "outputs": [
        {
          "output_type": "stream",
          "name": "stdout",
          "text": [
            "8\n",
            "8\n",
            "8\n",
            "8\n"
          ]
        }
      ]
    },
    {
      "cell_type": "code",
      "source": [
        "#TIY 2-9\n",
        "\n",
        "my_favorite_number = 8\n",
        "message = f\"My favorite number is {my_favorite_number}.\"\n",
        "print(message)"
      ],
      "metadata": {
        "colab": {
          "base_uri": "https://localhost:8080/"
        },
        "id": "CwXVCvfH-QlR",
        "outputId": "a39dfec7-7d53-43f1-8bcd-dd89463e6a9a"
      },
      "execution_count": 88,
      "outputs": [
        {
          "output_type": "stream",
          "name": "stdout",
          "text": [
            "My favorite number is 8.\n"
          ]
        }
      ]
    },
    {
      "cell_type": "code",
      "source": [
        "#TIY 2-10\n",
        "#Program 1\n",
        "#Program written by Prasamsha on 02/12/2024\n",
        "\n",
        "#This program shows arthemitic operations like addition, subtraction, multiplication and division\n",
        "\n",
        "#This adds the numbers and prints out 8\n",
        "print(4 + 4)\n",
        "\n",
        "#This subtracts the numbers like 4 from 12 and prints out 8\n",
        "print(12 - 4)\n",
        "\n",
        "#This multiplies the numbers and prints out 8\n",
        "print(4 * 2)\n",
        "\n",
        "#This divides the numbers 64 by 8 and prints out 8\n",
        "#I put int so that the answer is in integer which is 8  and not 8.0\n",
        "print(int(64 / 8))\n",
        "\n"
      ],
      "metadata": {
        "colab": {
          "base_uri": "https://localhost:8080/"
        },
        "id": "6x7W8jG4-rSW",
        "outputId": "c7536dc2-c022-4dff-fa63-9606d6a01226"
      },
      "execution_count": 89,
      "outputs": [
        {
          "output_type": "stream",
          "name": "stdout",
          "text": [
            "8\n",
            "8\n",
            "8\n",
            "8\n"
          ]
        }
      ]
    },
    {
      "cell_type": "code",
      "source": [
        "#TIY 2-10\n",
        "#Program 2\n",
        "#Program written by Prasamsha on 02/12/2024\n",
        "\n",
        "#This program prints out the famous quote by Stephen Curry\n",
        "\n",
        "#I am assigning the value Stephen curry to the variable called name\n",
        "name = \"Stephen Curry\"\n",
        "\n",
        "#I am just writing down the quote said by Stephen curry with double quotation\n",
        "quote = \"Success is not an accident, success is actually a choice.\"\n",
        "\n",
        "#This prints out the program that I want, here \"{}\" inside here I am writing variables.\n",
        "#I used single quotation so that there wont be error because the actual quote is in double quotation\n",
        "print(f'{name} once said, \" {quote}\"')"
      ],
      "metadata": {
        "colab": {
          "base_uri": "https://localhost:8080/"
        },
        "id": "pD5v5iaLbRDa",
        "outputId": "05d81e4b-0e33-4c42-a158-5a6e38c4e517"
      },
      "execution_count": 90,
      "outputs": [
        {
          "output_type": "stream",
          "name": "stdout",
          "text": [
            "Stephen Curry once said, \" Success is not an accident, success is actually a choice.\"\n"
          ]
        }
      ]
    },
    {
      "cell_type": "code",
      "source": [
        "import this"
      ],
      "metadata": {
        "id": "ih0ZcKoqBTFj"
      },
      "execution_count": 94,
      "outputs": []
    }
  ]
}